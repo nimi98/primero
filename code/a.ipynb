{
 "cells": [
  {
   "cell_type": "code",
   "execution_count": 22,
   "metadata": {},
   "outputs": [
    {
     "name": "stdout",
     "output_type": "stream",
     "text": [
      "Package           Version\n",
      "----------------- -----------\n",
      "appnope           0.1.4\n",
      "asttokens         2.4.1\n",
      "comm              0.2.1\n",
      "debugpy           1.8.1\n",
      "decorator         5.1.1\n",
      "executing         2.0.1\n",
      "ipykernel         6.29.3\n",
      "ipython           8.22.2\n",
      "jedi              0.19.1\n",
      "jupyter_client    8.6.0\n",
      "jupyter_core      5.7.1\n",
      "matplotlib-inline 0.1.6\n",
      "nest-asyncio      1.6.0\n",
      "packaging         24.0\n",
      "parso             0.8.3\n",
      "pexpect           4.9.0\n",
      "pip               23.2.1\n",
      "platformdirs      4.2.0\n",
      "prompt-toolkit    3.0.43\n",
      "psutil            5.9.8\n",
      "ptyprocess        0.7.0\n",
      "pure-eval         0.2.2\n",
      "Pygments          2.17.2\n",
      "python-dateutil   2.9.0.post0\n",
      "pyzmq             25.1.2\n",
      "setuptools        65.5.0\n",
      "six               1.16.0\n",
      "stack-data        0.6.3\n",
      "tornado           6.4\n",
      "traitlets         5.14.1\n",
      "wcwidth           0.2.13\n",
      "\n",
      "\u001b[1m[\u001b[0m\u001b[34;49mnotice\u001b[0m\u001b[1;39;49m]\u001b[0m\u001b[39;49m A new release of pip is available: \u001b[0m\u001b[31;49m23.2.1\u001b[0m\u001b[39;49m -> \u001b[0m\u001b[32;49m24.0\u001b[0m\n",
      "\u001b[1m[\u001b[0m\u001b[34;49mnotice\u001b[0m\u001b[1;39;49m]\u001b[0m\u001b[39;49m To update, run: \u001b[0m\u001b[32;49mpip install --upgrade pip\u001b[0m\n",
      "Note: you may need to restart the kernel to use updated packages.\n"
     ]
    }
   ],
   "source": [
    "pip list"
   ]
  },
  {
   "cell_type": "code",
   "execution_count": 28,
   "metadata": {},
   "outputs": [],
   "source": [
    "import pandas as pd"
   ]
  },
  {
   "cell_type": "code",
   "execution_count": null,
   "metadata": {},
   "outputs": [],
   "source": []
  }
 ],
 "metadata": {
  "kernelspec": {
   "display_name": "Python 3",
   "language": "python",
   "name": "python3"
  },
  "language_info": {
   "codemirror_mode": {
    "name": "ipython",
    "version": 3
   },
   "file_extension": ".py",
   "mimetype": "text/x-python",
   "name": "python",
   "nbconvert_exporter": "python",
   "pygments_lexer": "ipython3",
   "version": "3.11.5"
  }
 },
 "nbformat": 4,
 "nbformat_minor": 2
}
