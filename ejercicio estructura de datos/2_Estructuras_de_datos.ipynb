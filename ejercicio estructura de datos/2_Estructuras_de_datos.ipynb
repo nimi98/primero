{
  "cells": [
    {
      "cell_type": "markdown",
      "metadata": {
        "id": "aMsZrV3ecGud"
      },
      "source": [
        "Nombre:\n",
        "\n",
        "---\n",
        "\n",
        "\n",
        "\n",
        "\n",
        "# Clase 2 - Estructuras de datos en python\n",
        "\n",
        "Fundamentos de dirección financiera para el análisis de datos."
      ]
    },
    {
      "cell_type": "markdown",
      "metadata": {
        "id": "FaWy7x65cUjQ"
      },
      "source": [
        "# Configuración e ingesta de datos"
      ]
    },
    {
      "cell_type": "code",
      "execution_count": 1,
      "metadata": {
        "id": "arB4wXF4cIOG"
      },
      "outputs": [],
      "source": [
        "import pandas as pd\n",
        "import numpy as np"
      ]
    },
    {
      "cell_type": "markdown",
      "metadata": {
        "id": "Xua5Tn5scc8o"
      },
      "source": [
        "Sube los dos archivos:\n",
        "- database.csv\n",
        "- PRIME.csv\n",
        "\n",
        "a la carpeta de archivos de Google Collab para poder utilizarlos durante la sesión.\n",
        "\n",
        "Para comenzar, lee el archivo *database.csv* a un objeto, data."
      ]
    },
    {
      "cell_type": "code",
      "execution_count": 2,
      "metadata": {
        "colab": {
          "base_uri": "https://localhost:8080/",
          "height": 571
        },
        "id": "VanxvuE1ca2p",
        "outputId": "ecf53122-2fe8-4d81-ba3d-a4be36a13fe7"
      },
      "outputs": [
        {
          "name": "stdout",
          "output_type": "stream",
          "text": [
            "(5413, 20)\n"
          ]
        },
        {
          "data": {
            "text/html": [
              "<div>\n",
              "<style scoped>\n",
              "    .dataframe tbody tr th:only-of-type {\n",
              "        vertical-align: middle;\n",
              "    }\n",
              "\n",
              "    .dataframe tbody tr th {\n",
              "        vertical-align: top;\n",
              "    }\n",
              "\n",
              "    .dataframe thead th {\n",
              "        text-align: right;\n",
              "    }\n",
              "</style>\n",
              "<table border=\"1\" class=\"dataframe\">\n",
              "  <thead>\n",
              "    <tr style=\"text-align: right;\">\n",
              "      <th></th>\n",
              "      <th>Institution Name</th>\n",
              "      <th>Main Office</th>\n",
              "      <th>Branch Name</th>\n",
              "      <th>Branch Number</th>\n",
              "      <th>Established Date</th>\n",
              "      <th>Acquired Date</th>\n",
              "      <th>Street Address</th>\n",
              "      <th>City</th>\n",
              "      <th>County</th>\n",
              "      <th>State</th>\n",
              "      <th>Zipcode</th>\n",
              "      <th>Latitude</th>\n",
              "      <th>Longitude</th>\n",
              "      <th>2010 Deposits</th>\n",
              "      <th>2011 Deposits</th>\n",
              "      <th>2012 Deposits</th>\n",
              "      <th>2013 Deposits</th>\n",
              "      <th>2014 Deposits</th>\n",
              "      <th>2015 Deposits</th>\n",
              "      <th>2016 Deposits</th>\n",
              "    </tr>\n",
              "  </thead>\n",
              "  <tbody>\n",
              "    <tr>\n",
              "      <th>0</th>\n",
              "      <td>JPMorgan Chase Bank</td>\n",
              "      <td>1</td>\n",
              "      <td>JPMorgan Chase Bank Main Office</td>\n",
              "      <td>0</td>\n",
              "      <td>01/01/1824</td>\n",
              "      <td>NaN</td>\n",
              "      <td>1111 Polaris Parkway</td>\n",
              "      <td>Columbus</td>\n",
              "      <td>Delaware</td>\n",
              "      <td>OH</td>\n",
              "      <td>43240</td>\n",
              "      <td>40.14453</td>\n",
              "      <td>-82.99115</td>\n",
              "      <td>633131000.0</td>\n",
              "      <td>743268000.0</td>\n",
              "      <td>832455000.0</td>\n",
              "      <td>916543000.0</td>\n",
              "      <td>1.032549e+09</td>\n",
              "      <td>1.069425e+09</td>\n",
              "      <td>1155185000</td>\n",
              "    </tr>\n",
              "    <tr>\n",
              "      <th>1</th>\n",
              "      <td>JPMorgan Chase Bank</td>\n",
              "      <td>0</td>\n",
              "      <td>Vernon Hills Scarsdale Branch</td>\n",
              "      <td>2</td>\n",
              "      <td>03/20/1961</td>\n",
              "      <td>NaN</td>\n",
              "      <td>676 White Plains Road</td>\n",
              "      <td>Scarsdale</td>\n",
              "      <td>Westchester</td>\n",
              "      <td>NY</td>\n",
              "      <td>10583</td>\n",
              "      <td>40.97008</td>\n",
              "      <td>-73.80670</td>\n",
              "      <td>293229.0</td>\n",
              "      <td>310791.0</td>\n",
              "      <td>325742.0</td>\n",
              "      <td>327930.0</td>\n",
              "      <td>3.277920e+05</td>\n",
              "      <td>3.414750e+05</td>\n",
              "      <td>381558</td>\n",
              "    </tr>\n",
              "    <tr>\n",
              "      <th>2</th>\n",
              "      <td>JPMorgan Chase Bank</td>\n",
              "      <td>0</td>\n",
              "      <td>Great Neck Northern Boulevard Branch</td>\n",
              "      <td>3</td>\n",
              "      <td>09/09/1963</td>\n",
              "      <td>NaN</td>\n",
              "      <td>410 Northern Boulevard</td>\n",
              "      <td>Great Neck</td>\n",
              "      <td>Nassau</td>\n",
              "      <td>NY</td>\n",
              "      <td>11021</td>\n",
              "      <td>40.77944</td>\n",
              "      <td>-73.72240</td>\n",
              "      <td>191011.0</td>\n",
              "      <td>206933.0</td>\n",
              "      <td>216439.0</td>\n",
              "      <td>237983.0</td>\n",
              "      <td>2.341830e+05</td>\n",
              "      <td>2.624550e+05</td>\n",
              "      <td>278940</td>\n",
              "    </tr>\n",
              "    <tr>\n",
              "      <th>3</th>\n",
              "      <td>JPMorgan Chase Bank</td>\n",
              "      <td>0</td>\n",
              "      <td>North Hartsdale Branch</td>\n",
              "      <td>4</td>\n",
              "      <td>02/19/1966</td>\n",
              "      <td>NaN</td>\n",
              "      <td>353 North Central Avenue</td>\n",
              "      <td>Hartsdale</td>\n",
              "      <td>Westchester</td>\n",
              "      <td>NY</td>\n",
              "      <td>10530</td>\n",
              "      <td>41.02654</td>\n",
              "      <td>-73.79168</td>\n",
              "      <td>87110.0</td>\n",
              "      <td>88367.0</td>\n",
              "      <td>93163.0</td>\n",
              "      <td>109659.0</td>\n",
              "      <td>1.119850e+05</td>\n",
              "      <td>1.167720e+05</td>\n",
              "      <td>140233</td>\n",
              "    </tr>\n",
              "    <tr>\n",
              "      <th>4</th>\n",
              "      <td>JPMorgan Chase Bank</td>\n",
              "      <td>0</td>\n",
              "      <td>Lawrence Rockaway Branch</td>\n",
              "      <td>5</td>\n",
              "      <td>01/16/1965</td>\n",
              "      <td>NaN</td>\n",
              "      <td>335 Rockaway Turnpike</td>\n",
              "      <td>Lawrence</td>\n",
              "      <td>Nassau</td>\n",
              "      <td>NY</td>\n",
              "      <td>11559</td>\n",
              "      <td>40.62715</td>\n",
              "      <td>-73.73675</td>\n",
              "      <td>172608.0</td>\n",
              "      <td>172749.0</td>\n",
              "      <td>189413.0</td>\n",
              "      <td>198445.0</td>\n",
              "      <td>2.051980e+05</td>\n",
              "      <td>2.232000e+05</td>\n",
              "      <td>235594</td>\n",
              "    </tr>\n",
              "  </tbody>\n",
              "</table>\n",
              "</div>"
            ],
            "text/plain": [
              "      Institution Name  Main Office                           Branch Name  \\\n",
              "0  JPMorgan Chase Bank            1       JPMorgan Chase Bank Main Office   \n",
              "1  JPMorgan Chase Bank            0         Vernon Hills Scarsdale Branch   \n",
              "2  JPMorgan Chase Bank            0  Great Neck Northern Boulevard Branch   \n",
              "3  JPMorgan Chase Bank            0                North Hartsdale Branch   \n",
              "4  JPMorgan Chase Bank            0              Lawrence Rockaway Branch   \n",
              "\n",
              "   Branch Number Established Date Acquired Date            Street Address  \\\n",
              "0              0       01/01/1824           NaN      1111 Polaris Parkway   \n",
              "1              2       03/20/1961           NaN     676 White Plains Road   \n",
              "2              3       09/09/1963           NaN    410 Northern Boulevard   \n",
              "3              4       02/19/1966           NaN  353 North Central Avenue   \n",
              "4              5       01/16/1965           NaN     335 Rockaway Turnpike   \n",
              "\n",
              "         City       County State  Zipcode  Latitude  Longitude  2010 Deposits  \\\n",
              "0    Columbus     Delaware    OH    43240  40.14453  -82.99115    633131000.0   \n",
              "1   Scarsdale  Westchester    NY    10583  40.97008  -73.80670       293229.0   \n",
              "2  Great Neck       Nassau    NY    11021  40.77944  -73.72240       191011.0   \n",
              "3   Hartsdale  Westchester    NY    10530  41.02654  -73.79168        87110.0   \n",
              "4    Lawrence       Nassau    NY    11559  40.62715  -73.73675       172608.0   \n",
              "\n",
              "   2011 Deposits  2012 Deposits  2013 Deposits  2014 Deposits  2015 Deposits  \\\n",
              "0    743268000.0    832455000.0    916543000.0   1.032549e+09   1.069425e+09   \n",
              "1       310791.0       325742.0       327930.0   3.277920e+05   3.414750e+05   \n",
              "2       206933.0       216439.0       237983.0   2.341830e+05   2.624550e+05   \n",
              "3        88367.0        93163.0       109659.0   1.119850e+05   1.167720e+05   \n",
              "4       172749.0       189413.0       198445.0   2.051980e+05   2.232000e+05   \n",
              "\n",
              "   2016 Deposits  \n",
              "0     1155185000  \n",
              "1         381558  \n",
              "2         278940  \n",
              "3         140233  \n",
              "4         235594  "
            ]
          },
          "metadata": {},
          "output_type": "display_data"
        },
        {
          "name": "stdout",
          "output_type": "stream",
          "text": [
            "----------------------------------------\n"
          ]
        },
        {
          "data": {
            "text/html": [
              "<div>\n",
              "<style scoped>\n",
              "    .dataframe tbody tr th:only-of-type {\n",
              "        vertical-align: middle;\n",
              "    }\n",
              "\n",
              "    .dataframe tbody tr th {\n",
              "        vertical-align: top;\n",
              "    }\n",
              "\n",
              "    .dataframe thead th {\n",
              "        text-align: right;\n",
              "    }\n",
              "</style>\n",
              "<table border=\"1\" class=\"dataframe\">\n",
              "  <thead>\n",
              "    <tr style=\"text-align: right;\">\n",
              "      <th></th>\n",
              "      <th>Institution Name</th>\n",
              "      <th>Main Office</th>\n",
              "      <th>Branch Name</th>\n",
              "      <th>Branch Number</th>\n",
              "      <th>Established Date</th>\n",
              "      <th>Acquired Date</th>\n",
              "      <th>Street Address</th>\n",
              "      <th>City</th>\n",
              "      <th>County</th>\n",
              "      <th>State</th>\n",
              "      <th>Zipcode</th>\n",
              "      <th>Latitude</th>\n",
              "      <th>Longitude</th>\n",
              "      <th>2010 Deposits</th>\n",
              "      <th>2011 Deposits</th>\n",
              "      <th>2012 Deposits</th>\n",
              "      <th>2013 Deposits</th>\n",
              "      <th>2014 Deposits</th>\n",
              "      <th>2015 Deposits</th>\n",
              "      <th>2016 Deposits</th>\n",
              "    </tr>\n",
              "  </thead>\n",
              "  <tbody>\n",
              "    <tr>\n",
              "      <th>5408</th>\n",
              "      <td>JPMorgan Chase Bank</td>\n",
              "      <td>0</td>\n",
              "      <td>Alameda and Compton Blvd Branch</td>\n",
              "      <td>7981</td>\n",
              "      <td>11/03/2015</td>\n",
              "      <td>NaN</td>\n",
              "      <td>251 E Compton Blvd</td>\n",
              "      <td>Compton</td>\n",
              "      <td>Los Angeles</td>\n",
              "      <td>CA</td>\n",
              "      <td>90220</td>\n",
              "      <td>33.89601</td>\n",
              "      <td>-118.22084</td>\n",
              "      <td>NaN</td>\n",
              "      <td>NaN</td>\n",
              "      <td>NaN</td>\n",
              "      <td>NaN</td>\n",
              "      <td>NaN</td>\n",
              "      <td>NaN</td>\n",
              "      <td>3446</td>\n",
              "    </tr>\n",
              "    <tr>\n",
              "      <th>5409</th>\n",
              "      <td>JPMorgan Chase Bank</td>\n",
              "      <td>0</td>\n",
              "      <td>Charleston and Rancho</td>\n",
              "      <td>7982</td>\n",
              "      <td>02/02/2016</td>\n",
              "      <td>NaN</td>\n",
              "      <td>2311 W Chafrleston Blvd</td>\n",
              "      <td>Las Vegas</td>\n",
              "      <td>Clark</td>\n",
              "      <td>NV</td>\n",
              "      <td>89102</td>\n",
              "      <td>36.14270</td>\n",
              "      <td>-115.19043</td>\n",
              "      <td>NaN</td>\n",
              "      <td>NaN</td>\n",
              "      <td>NaN</td>\n",
              "      <td>NaN</td>\n",
              "      <td>NaN</td>\n",
              "      <td>NaN</td>\n",
              "      <td>2666</td>\n",
              "    </tr>\n",
              "    <tr>\n",
              "      <th>5410</th>\n",
              "      <td>JPMorgan Chase Bank</td>\n",
              "      <td>0</td>\n",
              "      <td>Los Olivos Branch</td>\n",
              "      <td>7984</td>\n",
              "      <td>03/15/2016</td>\n",
              "      <td>NaN</td>\n",
              "      <td>8593 Irvine Center Drive</td>\n",
              "      <td>Irvine</td>\n",
              "      <td>Orange</td>\n",
              "      <td>CA</td>\n",
              "      <td>92618</td>\n",
              "      <td>33.64412</td>\n",
              "      <td>-117.74453</td>\n",
              "      <td>NaN</td>\n",
              "      <td>NaN</td>\n",
              "      <td>NaN</td>\n",
              "      <td>NaN</td>\n",
              "      <td>NaN</td>\n",
              "      <td>NaN</td>\n",
              "      <td>6689</td>\n",
              "    </tr>\n",
              "    <tr>\n",
              "      <th>5411</th>\n",
              "      <td>JPMorgan Chase Bank</td>\n",
              "      <td>0</td>\n",
              "      <td>Lake Forest Branch</td>\n",
              "      <td>7988</td>\n",
              "      <td>01/01/2016</td>\n",
              "      <td>NaN</td>\n",
              "      <td>5660 Read Blvd</td>\n",
              "      <td>New Orleans</td>\n",
              "      <td>Orleans</td>\n",
              "      <td>LA</td>\n",
              "      <td>70127</td>\n",
              "      <td>30.03205</td>\n",
              "      <td>-89.97260</td>\n",
              "      <td>NaN</td>\n",
              "      <td>NaN</td>\n",
              "      <td>NaN</td>\n",
              "      <td>NaN</td>\n",
              "      <td>NaN</td>\n",
              "      <td>NaN</td>\n",
              "      <td>94133</td>\n",
              "    </tr>\n",
              "    <tr>\n",
              "      <th>5412</th>\n",
              "      <td>JPMorgan Chase Bank</td>\n",
              "      <td>0</td>\n",
              "      <td>Buffalo-Mm Branch</td>\n",
              "      <td>7989</td>\n",
              "      <td>01/01/2016</td>\n",
              "      <td>NaN</td>\n",
              "      <td>350 Main Street</td>\n",
              "      <td>Buffalo</td>\n",
              "      <td>Erie</td>\n",
              "      <td>NY</td>\n",
              "      <td>14202</td>\n",
              "      <td>42.88429</td>\n",
              "      <td>-78.87487</td>\n",
              "      <td>NaN</td>\n",
              "      <td>NaN</td>\n",
              "      <td>NaN</td>\n",
              "      <td>NaN</td>\n",
              "      <td>NaN</td>\n",
              "      <td>NaN</td>\n",
              "      <td>45596</td>\n",
              "    </tr>\n",
              "  </tbody>\n",
              "</table>\n",
              "</div>"
            ],
            "text/plain": [
              "         Institution Name  Main Office                      Branch Name  \\\n",
              "5408  JPMorgan Chase Bank            0  Alameda and Compton Blvd Branch   \n",
              "5409  JPMorgan Chase Bank            0            Charleston and Rancho   \n",
              "5410  JPMorgan Chase Bank            0                Los Olivos Branch   \n",
              "5411  JPMorgan Chase Bank            0               Lake Forest Branch   \n",
              "5412  JPMorgan Chase Bank            0                Buffalo-Mm Branch   \n",
              "\n",
              "      Branch Number Established Date Acquired Date            Street Address  \\\n",
              "5408           7981       11/03/2015           NaN        251 E Compton Blvd   \n",
              "5409           7982       02/02/2016           NaN   2311 W Chafrleston Blvd   \n",
              "5410           7984       03/15/2016           NaN  8593 Irvine Center Drive   \n",
              "5411           7988       01/01/2016           NaN            5660 Read Blvd   \n",
              "5412           7989       01/01/2016           NaN           350 Main Street   \n",
              "\n",
              "             City       County State  Zipcode  Latitude  Longitude  \\\n",
              "5408      Compton  Los Angeles    CA    90220  33.89601 -118.22084   \n",
              "5409    Las Vegas        Clark    NV    89102  36.14270 -115.19043   \n",
              "5410       Irvine       Orange    CA    92618  33.64412 -117.74453   \n",
              "5411  New Orleans      Orleans    LA    70127  30.03205  -89.97260   \n",
              "5412      Buffalo         Erie    NY    14202  42.88429  -78.87487   \n",
              "\n",
              "      2010 Deposits  2011 Deposits  2012 Deposits  2013 Deposits  \\\n",
              "5408            NaN            NaN            NaN            NaN   \n",
              "5409            NaN            NaN            NaN            NaN   \n",
              "5410            NaN            NaN            NaN            NaN   \n",
              "5411            NaN            NaN            NaN            NaN   \n",
              "5412            NaN            NaN            NaN            NaN   \n",
              "\n",
              "      2014 Deposits  2015 Deposits  2016 Deposits  \n",
              "5408            NaN            NaN           3446  \n",
              "5409            NaN            NaN           2666  \n",
              "5410            NaN            NaN           6689  \n",
              "5411            NaN            NaN          94133  \n",
              "5412            NaN            NaN          45596  "
            ]
          },
          "metadata": {},
          "output_type": "display_data"
        },
        {
          "name": "stdout",
          "output_type": "stream",
          "text": [
            "<bound method NDFrame.tail of          Institution Name  Main Office                           Branch Name  \\\n",
            "0     JPMorgan Chase Bank            1       JPMorgan Chase Bank Main Office   \n",
            "1     JPMorgan Chase Bank            0         Vernon Hills Scarsdale Branch   \n",
            "2     JPMorgan Chase Bank            0  Great Neck Northern Boulevard Branch   \n",
            "3     JPMorgan Chase Bank            0                North Hartsdale Branch   \n",
            "4     JPMorgan Chase Bank            0              Lawrence Rockaway Branch   \n",
            "...                   ...          ...                                   ...   \n",
            "5408  JPMorgan Chase Bank            0       Alameda and Compton Blvd Branch   \n",
            "5409  JPMorgan Chase Bank            0                 Charleston and Rancho   \n",
            "5410  JPMorgan Chase Bank            0                     Los Olivos Branch   \n",
            "5411  JPMorgan Chase Bank            0                    Lake Forest Branch   \n",
            "5412  JPMorgan Chase Bank            0                     Buffalo-Mm Branch   \n",
            "\n",
            "      Branch Number Established Date Acquired Date            Street Address  \\\n",
            "0                 0       01/01/1824           NaN      1111 Polaris Parkway   \n",
            "1                 2       03/20/1961           NaN     676 White Plains Road   \n",
            "2                 3       09/09/1963           NaN    410 Northern Boulevard   \n",
            "3                 4       02/19/1966           NaN  353 North Central Avenue   \n",
            "4                 5       01/16/1965           NaN     335 Rockaway Turnpike   \n",
            "...             ...              ...           ...                       ...   \n",
            "5408           7981       11/03/2015           NaN        251 E Compton Blvd   \n",
            "5409           7982       02/02/2016           NaN   2311 W Chafrleston Blvd   \n",
            "5410           7984       03/15/2016           NaN  8593 Irvine Center Drive   \n",
            "5411           7988       01/01/2016           NaN            5660 Read Blvd   \n",
            "5412           7989       01/01/2016           NaN           350 Main Street   \n",
            "\n",
            "             City       County State  Zipcode  Latitude  Longitude  \\\n",
            "0        Columbus     Delaware    OH    43240  40.14453  -82.99115   \n",
            "1       Scarsdale  Westchester    NY    10583  40.97008  -73.80670   \n",
            "2      Great Neck       Nassau    NY    11021  40.77944  -73.72240   \n",
            "3       Hartsdale  Westchester    NY    10530  41.02654  -73.79168   \n",
            "4        Lawrence       Nassau    NY    11559  40.62715  -73.73675   \n",
            "...           ...          ...   ...      ...       ...        ...   \n",
            "5408      Compton  Los Angeles    CA    90220  33.89601 -118.22084   \n",
            "5409    Las Vegas        Clark    NV    89102  36.14270 -115.19043   \n",
            "5410       Irvine       Orange    CA    92618  33.64412 -117.74453   \n",
            "5411  New Orleans      Orleans    LA    70127  30.03205  -89.97260   \n",
            "5412      Buffalo         Erie    NY    14202  42.88429  -78.87487   \n",
            "\n",
            "      2010 Deposits  2011 Deposits  2012 Deposits  2013 Deposits  \\\n",
            "0       633131000.0    743268000.0    832455000.0    916543000.0   \n",
            "1          293229.0       310791.0       325742.0       327930.0   \n",
            "2          191011.0       206933.0       216439.0       237983.0   \n",
            "3           87110.0        88367.0        93163.0       109659.0   \n",
            "4          172608.0       172749.0       189413.0       198445.0   \n",
            "...             ...            ...            ...            ...   \n",
            "5408            NaN            NaN            NaN            NaN   \n",
            "5409            NaN            NaN            NaN            NaN   \n",
            "5410            NaN            NaN            NaN            NaN   \n",
            "5411            NaN            NaN            NaN            NaN   \n",
            "5412            NaN            NaN            NaN            NaN   \n",
            "\n",
            "      2014 Deposits  2015 Deposits  2016 Deposits  \n",
            "0      1.032549e+09   1.069425e+09     1155185000  \n",
            "1      3.277920e+05   3.414750e+05         381558  \n",
            "2      2.341830e+05   2.624550e+05         278940  \n",
            "3      1.119850e+05   1.167720e+05         140233  \n",
            "4      2.051980e+05   2.232000e+05         235594  \n",
            "...             ...            ...            ...  \n",
            "5408            NaN            NaN           3446  \n",
            "5409            NaN            NaN           2666  \n",
            "5410            NaN            NaN           6689  \n",
            "5411            NaN            NaN          94133  \n",
            "5412            NaN            NaN          45596  \n",
            "\n",
            "[5413 rows x 20 columns]>\n"
          ]
        }
      ],
      "source": [
        "data = pd.read_csv('/Users/nimi/Github Repository/primero/data/database.csv')\n",
        "print(data.shape)\n",
        "display(data.head())\n",
        "print(\"-\"*40)\n",
        "display(data.tail())\n",
        "print(data.tail)"
      ]
    },
    {
      "cell_type": "code",
      "execution_count": null,
      "metadata": {},
      "outputs": [],
      "source": []
    },
    {
      "cell_type": "markdown",
      "metadata": {
        "id": "wCd-ahXccjqb"
      },
      "source": [
        "# Ejercicio 1\n",
        "- Identifica los tipos de cada columna\n",
        "- Evalúa si son correctos o si habría que cambiar alguno, en caso de que haya algunos incorrectos guarda sus nombres en una lista\n"
      ]
    },
    {
      "cell_type": "code",
      "execution_count": 3,
      "metadata": {
        "colab": {
          "base_uri": "https://localhost:8080/"
        },
        "id": "HqHWifKTclUF",
        "outputId": "520194b8-291f-45db-d311-0a0230a1eaa8"
      },
      "outputs": [
        {
          "data": {
            "text/plain": [
              "Institution Name     object\n",
              "Main Office           int64\n",
              "Branch Name          object\n",
              "Branch Number         int64\n",
              "Established Date     object\n",
              "Acquired Date        object\n",
              "Street Address       object\n",
              "City                 object\n",
              "County               object\n",
              "State                object\n",
              "Zipcode               int64\n",
              "Latitude            float64\n",
              "Longitude           float64\n",
              "2010 Deposits       float64\n",
              "2011 Deposits       float64\n",
              "2012 Deposits       float64\n",
              "2013 Deposits       float64\n",
              "2014 Deposits       float64\n",
              "2015 Deposits       float64\n",
              "2016 Deposits         int64\n",
              "dtype: object"
            ]
          },
          "execution_count": 3,
          "metadata": {},
          "output_type": "execute_result"
        }
      ],
      "source": [
        "data.dtypes"
      ]
    },
    {
      "cell_type": "code",
      "execution_count": 5,
      "metadata": {},
      "outputs": [
        {
          "data": {
            "text/plain": [
              "(5413, 20)"
            ]
          },
          "execution_count": 5,
          "metadata": {},
          "output_type": "execute_result"
        }
      ],
      "source": [
        "data.shape"
      ]
    },
    {
      "cell_type": "markdown",
      "metadata": {},
      "source": [
        "Vamos a hacer listas "
      ]
    },
    {
      "cell_type": "code",
      "execution_count": 6,
      "metadata": {
        "id": "51FyckKUc1Hs"
      },
      "outputs": [],
      "source": [
        "fechas = ['Established Date', 'Acquired Date']\n",
        "decimales = ['2016 Deposits']\n",
        "boolean = ['Main Office']\n",
        "categories = ['Branch Number']\n",
        "strings = ['Zipcode']"
      ]
    },
    {
      "cell_type": "markdown",
      "metadata": {
        "id": "WnPOwvayc4J0"
      },
      "source": [
        "# Ejercicio 2\n",
        "Utiliza astype para arreglar los tipos erróneos.\n",
        "\n",
        "Muestra los tipos de las columnas resultantes de la transformación."
      ]
    },
    {
      "cell_type": "code",
      "execution_count": 7,
      "metadata": {
        "colab": {
          "base_uri": "https://localhost:8080/"
        },
        "id": "wT3p_UWWc2WN",
        "outputId": "801abd76-fc63-478c-c53d-09304a5250f1"
      },
      "outputs": [
        {
          "data": {
            "text/plain": [
              "Institution Name            object\n",
              "Main Office                   bool\n",
              "Branch Name                 object\n",
              "Branch Number             category\n",
              "Established Date    datetime64[ns]\n",
              "Acquired Date       datetime64[ns]\n",
              "Street Address              object\n",
              "City                        object\n",
              "County                      object\n",
              "State                       object\n",
              "Zipcode                     object\n",
              "Latitude                   float64\n",
              "Longitude                  float64\n",
              "2010 Deposits              float64\n",
              "2011 Deposits              float64\n",
              "2012 Deposits              float64\n",
              "2013 Deposits              float64\n",
              "2014 Deposits              float64\n",
              "2015 Deposits              float64\n",
              "2016 Deposits              float64\n",
              "dtype: object"
            ]
          },
          "execution_count": 7,
          "metadata": {},
          "output_type": "execute_result"
        }
      ],
      "source": [
        "data[boolean] = data[boolean].astype(bool)\n",
        "data[decimales] = data[decimales].astype(float)\n",
        "data[categories] = data[categories].astype('category')\n",
        "data[fechas] = data[fechas].astype('datetime64[ns]')\n",
        "data[strings] = data[strings].astype(str)\n",
        "\n",
        "data.dtypes"
      ]
    },
    {
      "cell_type": "markdown",
      "metadata": {},
      "source": [
        "DUDA: puede ser que ZIPCODE funcione mejor siendo un string?"
      ]
    },
    {
      "cell_type": "markdown",
      "metadata": {
        "id": "1h69MVV2dBf1"
      },
      "source": [
        "# Ejercicio 3\n",
        "\n",
        "Utiliza el método describe para ver un resumen de los datos.\n",
        "\n",
        "¿Faltan columnas? Eso ocurre porque, en caso de tener columnas con dtypes mixtos, el método describe solo evalúa aquellas de tipo numérico.\n",
        "\n",
        "Selecciona las columnas basándote en sus tipos para describirlas."
      ]
    },
    {
      "cell_type": "markdown",
      "metadata": {},
      "source": [
        "Es importante tener los datos en la forma adecuada. Por ejemplo para el describe es solo para variables numericas"
      ]
    },
    {
      "cell_type": "markdown",
      "metadata": {},
      "source": []
    },
    {
      "cell_type": "code",
      "execution_count": 8,
      "metadata": {
        "colab": {
          "base_uri": "https://localhost:8080/",
          "height": 384
        },
        "id": "DaHEMVdudALd",
        "outputId": "f392d2d8-e11c-478a-829f-d3df51122a6d"
      },
      "outputs": [
        {
          "data": {
            "text/html": [
              "<div>\n",
              "<style scoped>\n",
              "    .dataframe tbody tr th:only-of-type {\n",
              "        vertical-align: middle;\n",
              "    }\n",
              "\n",
              "    .dataframe tbody tr th {\n",
              "        vertical-align: top;\n",
              "    }\n",
              "\n",
              "    .dataframe thead th {\n",
              "        text-align: right;\n",
              "    }\n",
              "</style>\n",
              "<table border=\"1\" class=\"dataframe\">\n",
              "  <thead>\n",
              "    <tr style=\"text-align: right;\">\n",
              "      <th></th>\n",
              "      <th>Established Date</th>\n",
              "      <th>Acquired Date</th>\n",
              "      <th>Latitude</th>\n",
              "      <th>Longitude</th>\n",
              "      <th>2010 Deposits</th>\n",
              "      <th>2011 Deposits</th>\n",
              "      <th>2012 Deposits</th>\n",
              "      <th>2013 Deposits</th>\n",
              "      <th>2014 Deposits</th>\n",
              "      <th>2015 Deposits</th>\n",
              "      <th>2016 Deposits</th>\n",
              "    </tr>\n",
              "  </thead>\n",
              "  <tbody>\n",
              "    <tr>\n",
              "      <th>count</th>\n",
              "      <td>5413</td>\n",
              "      <td>3798</td>\n",
              "      <td>5347.000000</td>\n",
              "      <td>5347.000000</td>\n",
              "      <td>4.673000e+03</td>\n",
              "      <td>4.835000e+03</td>\n",
              "      <td>5.084000e+03</td>\n",
              "      <td>5.238000e+03</td>\n",
              "      <td>5.357000e+03</td>\n",
              "      <td>5.394000e+03</td>\n",
              "      <td>5.413000e+03</td>\n",
              "    </tr>\n",
              "    <tr>\n",
              "      <th>mean</th>\n",
              "      <td>1978-05-08 15:12:12.237206752</td>\n",
              "      <td>2005-07-09 10:52:30.710900352</td>\n",
              "      <td>37.248922</td>\n",
              "      <td>-95.206261</td>\n",
              "      <td>2.668657e+05</td>\n",
              "      <td>3.037544e+05</td>\n",
              "      <td>3.234610e+05</td>\n",
              "      <td>3.462343e+05</td>\n",
              "      <td>3.819853e+05</td>\n",
              "      <td>3.935169e+05</td>\n",
              "      <td>4.268188e+05</td>\n",
              "    </tr>\n",
              "    <tr>\n",
              "      <th>min</th>\n",
              "      <td>1800-01-01 00:00:00</td>\n",
              "      <td>1975-01-18 00:00:00</td>\n",
              "      <td>0.000000</td>\n",
              "      <td>-124.421370</td>\n",
              "      <td>0.000000e+00</td>\n",
              "      <td>0.000000e+00</td>\n",
              "      <td>0.000000e+00</td>\n",
              "      <td>0.000000e+00</td>\n",
              "      <td>0.000000e+00</td>\n",
              "      <td>0.000000e+00</td>\n",
              "      <td>0.000000e+00</td>\n",
              "    </tr>\n",
              "    <tr>\n",
              "      <th>25%</th>\n",
              "      <td>1962-03-23 00:00:00</td>\n",
              "      <td>2004-11-13 00:00:00</td>\n",
              "      <td>33.277225</td>\n",
              "      <td>-115.163740</td>\n",
              "      <td>2.252600e+04</td>\n",
              "      <td>2.315750e+04</td>\n",
              "      <td>2.465125e+04</td>\n",
              "      <td>2.689250e+04</td>\n",
              "      <td>2.935500e+04</td>\n",
              "      <td>3.394100e+04</td>\n",
              "      <td>3.951300e+04</td>\n",
              "    </tr>\n",
              "    <tr>\n",
              "      <th>50%</th>\n",
              "      <td>1989-04-30 00:00:00</td>\n",
              "      <td>2004-11-13 00:00:00</td>\n",
              "      <td>38.939520</td>\n",
              "      <td>-88.442410</td>\n",
              "      <td>4.307200e+04</td>\n",
              "      <td>4.442600e+04</td>\n",
              "      <td>4.717350e+04</td>\n",
              "      <td>5.041500e+04</td>\n",
              "      <td>5.450300e+04</td>\n",
              "      <td>6.013350e+04</td>\n",
              "      <td>6.815700e+04</td>\n",
              "    </tr>\n",
              "    <tr>\n",
              "      <th>75%</th>\n",
              "      <td>2006-10-26 00:00:00</td>\n",
              "      <td>2008-09-25 00:00:00</td>\n",
              "      <td>41.040635</td>\n",
              "      <td>-81.418135</td>\n",
              "      <td>8.502700e+04</td>\n",
              "      <td>8.614700e+04</td>\n",
              "      <td>9.000850e+04</td>\n",
              "      <td>9.506875e+04</td>\n",
              "      <td>1.023300e+05</td>\n",
              "      <td>1.115678e+05</td>\n",
              "      <td>1.243180e+05</td>\n",
              "    </tr>\n",
              "    <tr>\n",
              "      <th>max</th>\n",
              "      <td>2016-05-24 00:00:00</td>\n",
              "      <td>2011-10-14 00:00:00</td>\n",
              "      <td>48.844760</td>\n",
              "      <td>0.000000</td>\n",
              "      <td>6.331310e+08</td>\n",
              "      <td>7.432680e+08</td>\n",
              "      <td>8.324550e+08</td>\n",
              "      <td>9.165430e+08</td>\n",
              "      <td>1.032549e+09</td>\n",
              "      <td>1.069425e+09</td>\n",
              "      <td>1.155185e+09</td>\n",
              "    </tr>\n",
              "    <tr>\n",
              "      <th>std</th>\n",
              "      <td>NaN</td>\n",
              "      <td>NaN</td>\n",
              "      <td>5.430381</td>\n",
              "      <td>17.542081</td>\n",
              "      <td>9.568755e+06</td>\n",
              "      <td>1.110829e+07</td>\n",
              "      <td>1.211339e+07</td>\n",
              "      <td>1.312320e+07</td>\n",
              "      <td>1.461318e+07</td>\n",
              "      <td>1.507385e+07</td>\n",
              "      <td>1.632941e+07</td>\n",
              "    </tr>\n",
              "  </tbody>\n",
              "</table>\n",
              "</div>"
            ],
            "text/plain": [
              "                    Established Date                  Acquired Date  \\\n",
              "count                           5413                           3798   \n",
              "mean   1978-05-08 15:12:12.237206752  2005-07-09 10:52:30.710900352   \n",
              "min              1800-01-01 00:00:00            1975-01-18 00:00:00   \n",
              "25%              1962-03-23 00:00:00            2004-11-13 00:00:00   \n",
              "50%              1989-04-30 00:00:00            2004-11-13 00:00:00   \n",
              "75%              2006-10-26 00:00:00            2008-09-25 00:00:00   \n",
              "max              2016-05-24 00:00:00            2011-10-14 00:00:00   \n",
              "std                              NaN                            NaN   \n",
              "\n",
              "          Latitude    Longitude  2010 Deposits  2011 Deposits  2012 Deposits  \\\n",
              "count  5347.000000  5347.000000   4.673000e+03   4.835000e+03   5.084000e+03   \n",
              "mean     37.248922   -95.206261   2.668657e+05   3.037544e+05   3.234610e+05   \n",
              "min       0.000000  -124.421370   0.000000e+00   0.000000e+00   0.000000e+00   \n",
              "25%      33.277225  -115.163740   2.252600e+04   2.315750e+04   2.465125e+04   \n",
              "50%      38.939520   -88.442410   4.307200e+04   4.442600e+04   4.717350e+04   \n",
              "75%      41.040635   -81.418135   8.502700e+04   8.614700e+04   9.000850e+04   \n",
              "max      48.844760     0.000000   6.331310e+08   7.432680e+08   8.324550e+08   \n",
              "std       5.430381    17.542081   9.568755e+06   1.110829e+07   1.211339e+07   \n",
              "\n",
              "       2013 Deposits  2014 Deposits  2015 Deposits  2016 Deposits  \n",
              "count   5.238000e+03   5.357000e+03   5.394000e+03   5.413000e+03  \n",
              "mean    3.462343e+05   3.819853e+05   3.935169e+05   4.268188e+05  \n",
              "min     0.000000e+00   0.000000e+00   0.000000e+00   0.000000e+00  \n",
              "25%     2.689250e+04   2.935500e+04   3.394100e+04   3.951300e+04  \n",
              "50%     5.041500e+04   5.450300e+04   6.013350e+04   6.815700e+04  \n",
              "75%     9.506875e+04   1.023300e+05   1.115678e+05   1.243180e+05  \n",
              "max     9.165430e+08   1.032549e+09   1.069425e+09   1.155185e+09  \n",
              "std     1.312320e+07   1.461318e+07   1.507385e+07   1.632941e+07  "
            ]
          },
          "execution_count": 8,
          "metadata": {},
          "output_type": "execute_result"
        }
      ],
      "source": [
        "data.describe()"
      ]
    },
    {
      "cell_type": "code",
      "execution_count": 9,
      "metadata": {
        "colab": {
          "base_uri": "https://localhost:8080/",
          "height": 176
        },
        "id": "Fp6pF9brdGkn",
        "outputId": "bc5d3084-7b50-4d36-a816-ff203823b93f"
      },
      "outputs": [
        {
          "data": {
            "text/html": [
              "<div>\n",
              "<style scoped>\n",
              "    .dataframe tbody tr th:only-of-type {\n",
              "        vertical-align: middle;\n",
              "    }\n",
              "\n",
              "    .dataframe tbody tr th {\n",
              "        vertical-align: top;\n",
              "    }\n",
              "\n",
              "    .dataframe thead th {\n",
              "        text-align: right;\n",
              "    }\n",
              "</style>\n",
              "<table border=\"1\" class=\"dataframe\">\n",
              "  <thead>\n",
              "    <tr style=\"text-align: right;\">\n",
              "      <th></th>\n",
              "      <th>Zipcode</th>\n",
              "    </tr>\n",
              "  </thead>\n",
              "  <tbody>\n",
              "    <tr>\n",
              "      <th>count</th>\n",
              "      <td>5413</td>\n",
              "    </tr>\n",
              "    <tr>\n",
              "      <th>unique</th>\n",
              "      <td>3550</td>\n",
              "    </tr>\n",
              "    <tr>\n",
              "      <th>top</th>\n",
              "      <td>10022</td>\n",
              "    </tr>\n",
              "    <tr>\n",
              "      <th>freq</th>\n",
              "      <td>11</td>\n",
              "    </tr>\n",
              "  </tbody>\n",
              "</table>\n",
              "</div>"
            ],
            "text/plain": [
              "       Zipcode\n",
              "count     5413\n",
              "unique    3550\n",
              "top      10022\n",
              "freq        11"
            ]
          },
          "execution_count": 9,
          "metadata": {},
          "output_type": "execute_result"
        }
      ],
      "source": [
        "data[['Zipcode']].describe()"
      ]
    },
    {
      "cell_type": "code",
      "execution_count": 10,
      "metadata": {
        "colab": {
          "base_uri": "https://localhost:8080/",
          "height": 384
        },
        "id": "N38UUGvMdHlE",
        "outputId": "5ef4ffda-018b-4a5a-e3df-13483fcc00fc"
      },
      "outputs": [
        {
          "data": {
            "text/html": [
              "<div>\n",
              "<style scoped>\n",
              "    .dataframe tbody tr th:only-of-type {\n",
              "        vertical-align: middle;\n",
              "    }\n",
              "\n",
              "    .dataframe tbody tr th {\n",
              "        vertical-align: top;\n",
              "    }\n",
              "\n",
              "    .dataframe thead th {\n",
              "        text-align: right;\n",
              "    }\n",
              "</style>\n",
              "<table border=\"1\" class=\"dataframe\">\n",
              "  <thead>\n",
              "    <tr style=\"text-align: right;\">\n",
              "      <th></th>\n",
              "      <th>Latitude</th>\n",
              "      <th>Longitude</th>\n",
              "      <th>2010 Deposits</th>\n",
              "      <th>2011 Deposits</th>\n",
              "      <th>2012 Deposits</th>\n",
              "      <th>2013 Deposits</th>\n",
              "      <th>2014 Deposits</th>\n",
              "      <th>2015 Deposits</th>\n",
              "      <th>2016 Deposits</th>\n",
              "    </tr>\n",
              "  </thead>\n",
              "  <tbody>\n",
              "    <tr>\n",
              "      <th>count</th>\n",
              "      <td>5347.000000</td>\n",
              "      <td>5347.000000</td>\n",
              "      <td>4.673000e+03</td>\n",
              "      <td>4.835000e+03</td>\n",
              "      <td>5.084000e+03</td>\n",
              "      <td>5.238000e+03</td>\n",
              "      <td>5.357000e+03</td>\n",
              "      <td>5.394000e+03</td>\n",
              "      <td>5.413000e+03</td>\n",
              "    </tr>\n",
              "    <tr>\n",
              "      <th>mean</th>\n",
              "      <td>37.248922</td>\n",
              "      <td>-95.206261</td>\n",
              "      <td>2.668657e+05</td>\n",
              "      <td>3.037544e+05</td>\n",
              "      <td>3.234610e+05</td>\n",
              "      <td>3.462343e+05</td>\n",
              "      <td>3.819853e+05</td>\n",
              "      <td>3.935169e+05</td>\n",
              "      <td>4.268188e+05</td>\n",
              "    </tr>\n",
              "    <tr>\n",
              "      <th>std</th>\n",
              "      <td>5.430381</td>\n",
              "      <td>17.542081</td>\n",
              "      <td>9.568755e+06</td>\n",
              "      <td>1.110829e+07</td>\n",
              "      <td>1.211339e+07</td>\n",
              "      <td>1.312320e+07</td>\n",
              "      <td>1.461318e+07</td>\n",
              "      <td>1.507385e+07</td>\n",
              "      <td>1.632941e+07</td>\n",
              "    </tr>\n",
              "    <tr>\n",
              "      <th>min</th>\n",
              "      <td>0.000000</td>\n",
              "      <td>-124.421370</td>\n",
              "      <td>0.000000e+00</td>\n",
              "      <td>0.000000e+00</td>\n",
              "      <td>0.000000e+00</td>\n",
              "      <td>0.000000e+00</td>\n",
              "      <td>0.000000e+00</td>\n",
              "      <td>0.000000e+00</td>\n",
              "      <td>0.000000e+00</td>\n",
              "    </tr>\n",
              "    <tr>\n",
              "      <th>25%</th>\n",
              "      <td>33.277225</td>\n",
              "      <td>-115.163740</td>\n",
              "      <td>2.252600e+04</td>\n",
              "      <td>2.315750e+04</td>\n",
              "      <td>2.465125e+04</td>\n",
              "      <td>2.689250e+04</td>\n",
              "      <td>2.935500e+04</td>\n",
              "      <td>3.394100e+04</td>\n",
              "      <td>3.951300e+04</td>\n",
              "    </tr>\n",
              "    <tr>\n",
              "      <th>50%</th>\n",
              "      <td>38.939520</td>\n",
              "      <td>-88.442410</td>\n",
              "      <td>4.307200e+04</td>\n",
              "      <td>4.442600e+04</td>\n",
              "      <td>4.717350e+04</td>\n",
              "      <td>5.041500e+04</td>\n",
              "      <td>5.450300e+04</td>\n",
              "      <td>6.013350e+04</td>\n",
              "      <td>6.815700e+04</td>\n",
              "    </tr>\n",
              "    <tr>\n",
              "      <th>75%</th>\n",
              "      <td>41.040635</td>\n",
              "      <td>-81.418135</td>\n",
              "      <td>8.502700e+04</td>\n",
              "      <td>8.614700e+04</td>\n",
              "      <td>9.000850e+04</td>\n",
              "      <td>9.506875e+04</td>\n",
              "      <td>1.023300e+05</td>\n",
              "      <td>1.115678e+05</td>\n",
              "      <td>1.243180e+05</td>\n",
              "    </tr>\n",
              "    <tr>\n",
              "      <th>max</th>\n",
              "      <td>48.844760</td>\n",
              "      <td>0.000000</td>\n",
              "      <td>6.331310e+08</td>\n",
              "      <td>7.432680e+08</td>\n",
              "      <td>8.324550e+08</td>\n",
              "      <td>9.165430e+08</td>\n",
              "      <td>1.032549e+09</td>\n",
              "      <td>1.069425e+09</td>\n",
              "      <td>1.155185e+09</td>\n",
              "    </tr>\n",
              "  </tbody>\n",
              "</table>\n",
              "</div>"
            ],
            "text/plain": [
              "          Latitude    Longitude  2010 Deposits  2011 Deposits  2012 Deposits  \\\n",
              "count  5347.000000  5347.000000   4.673000e+03   4.835000e+03   5.084000e+03   \n",
              "mean     37.248922   -95.206261   2.668657e+05   3.037544e+05   3.234610e+05   \n",
              "std       5.430381    17.542081   9.568755e+06   1.110829e+07   1.211339e+07   \n",
              "min       0.000000  -124.421370   0.000000e+00   0.000000e+00   0.000000e+00   \n",
              "25%      33.277225  -115.163740   2.252600e+04   2.315750e+04   2.465125e+04   \n",
              "50%      38.939520   -88.442410   4.307200e+04   4.442600e+04   4.717350e+04   \n",
              "75%      41.040635   -81.418135   8.502700e+04   8.614700e+04   9.000850e+04   \n",
              "max      48.844760     0.000000   6.331310e+08   7.432680e+08   8.324550e+08   \n",
              "\n",
              "       2013 Deposits  2014 Deposits  2015 Deposits  2016 Deposits  \n",
              "count   5.238000e+03   5.357000e+03   5.394000e+03   5.413000e+03  \n",
              "mean    3.462343e+05   3.819853e+05   3.935169e+05   4.268188e+05  \n",
              "std     1.312320e+07   1.461318e+07   1.507385e+07   1.632941e+07  \n",
              "min     0.000000e+00   0.000000e+00   0.000000e+00   0.000000e+00  \n",
              "25%     2.689250e+04   2.935500e+04   3.394100e+04   3.951300e+04  \n",
              "50%     5.041500e+04   5.450300e+04   6.013350e+04   6.815700e+04  \n",
              "75%     9.506875e+04   1.023300e+05   1.115678e+05   1.243180e+05  \n",
              "max     9.165430e+08   1.032549e+09   1.069425e+09   1.155185e+09  "
            ]
          },
          "execution_count": 10,
          "metadata": {},
          "output_type": "execute_result"
        }
      ],
      "source": [
        "data.select_dtypes(include='number').describe()"
      ]
    },
    {
      "cell_type": "code",
      "execution_count": 11,
      "metadata": {
        "colab": {
          "base_uri": "https://localhost:8080/",
          "height": 462
        },
        "id": "Q1B7-FxFdI1-",
        "outputId": "1ad6dfc1-3255-4e6f-c1b0-03a83505a890"
      },
      "outputs": [
        {
          "data": {
            "text/html": [
              "<div>\n",
              "<style scoped>\n",
              "    .dataframe tbody tr th:only-of-type {\n",
              "        vertical-align: middle;\n",
              "    }\n",
              "\n",
              "    .dataframe tbody tr th {\n",
              "        vertical-align: top;\n",
              "    }\n",
              "\n",
              "    .dataframe thead th {\n",
              "        text-align: right;\n",
              "    }\n",
              "</style>\n",
              "<table border=\"1\" class=\"dataframe\">\n",
              "  <thead>\n",
              "    <tr style=\"text-align: right;\">\n",
              "      <th></th>\n",
              "      <th>Established Date</th>\n",
              "      <th>Acquired Date</th>\n",
              "    </tr>\n",
              "  </thead>\n",
              "  <tbody>\n",
              "    <tr>\n",
              "      <th>count</th>\n",
              "      <td>5413</td>\n",
              "      <td>3798</td>\n",
              "    </tr>\n",
              "    <tr>\n",
              "      <th>mean</th>\n",
              "      <td>1978-05-08 15:12:12.237206752</td>\n",
              "      <td>2005-07-09 10:52:30.710900352</td>\n",
              "    </tr>\n",
              "    <tr>\n",
              "      <th>min</th>\n",
              "      <td>1800-01-01 00:00:00</td>\n",
              "      <td>1975-01-18 00:00:00</td>\n",
              "    </tr>\n",
              "    <tr>\n",
              "      <th>25%</th>\n",
              "      <td>1962-03-23 00:00:00</td>\n",
              "      <td>2004-11-13 00:00:00</td>\n",
              "    </tr>\n",
              "    <tr>\n",
              "      <th>50%</th>\n",
              "      <td>1989-04-30 00:00:00</td>\n",
              "      <td>2004-11-13 00:00:00</td>\n",
              "    </tr>\n",
              "    <tr>\n",
              "      <th>75%</th>\n",
              "      <td>2006-10-26 00:00:00</td>\n",
              "      <td>2008-09-25 00:00:00</td>\n",
              "    </tr>\n",
              "    <tr>\n",
              "      <th>max</th>\n",
              "      <td>2016-05-24 00:00:00</td>\n",
              "      <td>2011-10-14 00:00:00</td>\n",
              "    </tr>\n",
              "  </tbody>\n",
              "</table>\n",
              "</div>"
            ],
            "text/plain": [
              "                    Established Date                  Acquired Date\n",
              "count                           5413                           3798\n",
              "mean   1978-05-08 15:12:12.237206752  2005-07-09 10:52:30.710900352\n",
              "min              1800-01-01 00:00:00            1975-01-18 00:00:00\n",
              "25%              1962-03-23 00:00:00            2004-11-13 00:00:00\n",
              "50%              1989-04-30 00:00:00            2004-11-13 00:00:00\n",
              "75%              2006-10-26 00:00:00            2008-09-25 00:00:00\n",
              "max              2016-05-24 00:00:00            2011-10-14 00:00:00"
            ]
          },
          "execution_count": 11,
          "metadata": {},
          "output_type": "execute_result"
        }
      ],
      "source": [
        "data.select_dtypes(exclude='number').describe()"
      ]
    },
    {
      "cell_type": "markdown",
      "metadata": {
        "id": "H_9oCZFidRQq"
      },
      "source": [
        "# Ejercicio 4\n",
        "Lee el archivo *PRIME.csv* y convierte las fechas según el formato de cada una usando pd.to_datetime\n",
        "\n",
        "`NOTA: está separado con ';' `"
      ]
    },
    {
      "cell_type": "code",
      "execution_count": 12,
      "metadata": {
        "colab": {
          "base_uri": "https://localhost:8080/",
          "height": 208
        },
        "id": "DnbfwNkHdK1E",
        "outputId": "2c988999-f1ab-4320-d792-5710214b3b0b"
      },
      "outputs": [
        {
          "data": {
            "text/html": [
              "<div>\n",
              "<style scoped>\n",
              "    .dataframe tbody tr th:only-of-type {\n",
              "        vertical-align: middle;\n",
              "    }\n",
              "\n",
              "    .dataframe tbody tr th {\n",
              "        vertical-align: top;\n",
              "    }\n",
              "\n",
              "    .dataframe thead th {\n",
              "        text-align: right;\n",
              "    }\n",
              "</style>\n",
              "<table border=\"1\" class=\"dataframe\">\n",
              "  <thead>\n",
              "    <tr style=\"text-align: right;\">\n",
              "      <th></th>\n",
              "      <th>realtime_start</th>\n",
              "      <th>realtime_end</th>\n",
              "      <th>date</th>\n",
              "      <th>value</th>\n",
              "    </tr>\n",
              "  </thead>\n",
              "  <tbody>\n",
              "    <tr>\n",
              "      <th>0</th>\n",
              "      <td>23 December 2019</td>\n",
              "      <td>2019-12-23</td>\n",
              "      <td>1/12/1947</td>\n",
              "      <td>.</td>\n",
              "    </tr>\n",
              "    <tr>\n",
              "      <th>1</th>\n",
              "      <td>23 December 2019</td>\n",
              "      <td>2019-12-23</td>\n",
              "      <td>1/8/1948</td>\n",
              "      <td>.</td>\n",
              "    </tr>\n",
              "    <tr>\n",
              "      <th>2</th>\n",
              "      <td>23 December 2019</td>\n",
              "      <td>2019-12-23</td>\n",
              "      <td>22/9/1950</td>\n",
              "      <td>.</td>\n",
              "    </tr>\n",
              "    <tr>\n",
              "      <th>3</th>\n",
              "      <td>23 December 2019</td>\n",
              "      <td>2019-12-23</td>\n",
              "      <td>8/1/1951</td>\n",
              "      <td>.</td>\n",
              "    </tr>\n",
              "    <tr>\n",
              "      <th>4</th>\n",
              "      <td>23 December 2019</td>\n",
              "      <td>2019-12-23</td>\n",
              "      <td>17/10/1951</td>\n",
              "      <td>.</td>\n",
              "    </tr>\n",
              "  </tbody>\n",
              "</table>\n",
              "</div>"
            ],
            "text/plain": [
              "     realtime_start realtime_end        date value\n",
              "0  23 December 2019   2019-12-23   1/12/1947     .\n",
              "1  23 December 2019   2019-12-23    1/8/1948     .\n",
              "2  23 December 2019   2019-12-23   22/9/1950     .\n",
              "3  23 December 2019   2019-12-23    8/1/1951     .\n",
              "4  23 December 2019   2019-12-23  17/10/1951     ."
            ]
          },
          "execution_count": 12,
          "metadata": {},
          "output_type": "execute_result"
        }
      ],
      "source": [
        "prime = pd.read_csv('../data/PRIME.csv', sep=';')\n",
        "prime.head()"
      ]
    },
    {
      "cell_type": "code",
      "execution_count": 13,
      "metadata": {
        "colab": {
          "base_uri": "https://localhost:8080/"
        },
        "id": "LSgrr036diJq",
        "outputId": "b05a96c7-0f4e-45be-e6d8-273e2926f19c"
      },
      "outputs": [
        {
          "data": {
            "text/plain": [
              "realtime_start    object\n",
              "realtime_end      object\n",
              "date              object\n",
              "value             object\n",
              "dtype: object"
            ]
          },
          "execution_count": 13,
          "metadata": {},
          "output_type": "execute_result"
        }
      ],
      "source": [
        "prime.dtypes"
      ]
    },
    {
      "cell_type": "code",
      "execution_count": 14,
      "metadata": {
        "colab": {
          "base_uri": "https://localhost:8080/",
          "height": 208
        },
        "id": "Ed44Wlh5hmvI",
        "outputId": "bc0a6ade-0d58-42b1-f75f-27548acfc51a"
      },
      "outputs": [
        {
          "data": {
            "text/html": [
              "<div>\n",
              "<style scoped>\n",
              "    .dataframe tbody tr th:only-of-type {\n",
              "        vertical-align: middle;\n",
              "    }\n",
              "\n",
              "    .dataframe tbody tr th {\n",
              "        vertical-align: top;\n",
              "    }\n",
              "\n",
              "    .dataframe thead th {\n",
              "        text-align: right;\n",
              "    }\n",
              "</style>\n",
              "<table border=\"1\" class=\"dataframe\">\n",
              "  <thead>\n",
              "    <tr style=\"text-align: right;\">\n",
              "      <th></th>\n",
              "      <th>realtime_start</th>\n",
              "      <th>realtime_end</th>\n",
              "      <th>date</th>\n",
              "      <th>value</th>\n",
              "    </tr>\n",
              "  </thead>\n",
              "  <tbody>\n",
              "    <tr>\n",
              "      <th>0</th>\n",
              "      <td>2019-12-23</td>\n",
              "      <td>2019-12-23</td>\n",
              "      <td>1947-12-01</td>\n",
              "      <td>.</td>\n",
              "    </tr>\n",
              "    <tr>\n",
              "      <th>1</th>\n",
              "      <td>2019-12-23</td>\n",
              "      <td>2019-12-23</td>\n",
              "      <td>1948-08-01</td>\n",
              "      <td>.</td>\n",
              "    </tr>\n",
              "    <tr>\n",
              "      <th>2</th>\n",
              "      <td>2019-12-23</td>\n",
              "      <td>2019-12-23</td>\n",
              "      <td>1950-09-22</td>\n",
              "      <td>.</td>\n",
              "    </tr>\n",
              "    <tr>\n",
              "      <th>3</th>\n",
              "      <td>2019-12-23</td>\n",
              "      <td>2019-12-23</td>\n",
              "      <td>1951-01-08</td>\n",
              "      <td>.</td>\n",
              "    </tr>\n",
              "    <tr>\n",
              "      <th>4</th>\n",
              "      <td>2019-12-23</td>\n",
              "      <td>2019-12-23</td>\n",
              "      <td>1951-10-17</td>\n",
              "      <td>.</td>\n",
              "    </tr>\n",
              "  </tbody>\n",
              "</table>\n",
              "</div>"
            ],
            "text/plain": [
              "  realtime_start realtime_end       date value\n",
              "0     2019-12-23   2019-12-23 1947-12-01     .\n",
              "1     2019-12-23   2019-12-23 1948-08-01     .\n",
              "2     2019-12-23   2019-12-23 1950-09-22     .\n",
              "3     2019-12-23   2019-12-23 1951-01-08     .\n",
              "4     2019-12-23   2019-12-23 1951-10-17     ."
            ]
          },
          "execution_count": 14,
          "metadata": {},
          "output_type": "execute_result"
        }
      ],
      "source": [
        "prime['realtime_start'] = pd.to_datetime(prime['realtime_start'], format='%d %B %Y')\n",
        "prime['realtime_end'] = pd.to_datetime(prime['realtime_end'], format='%Y-%m-%d')\n",
        "prime['date'] = pd.to_datetime(prime['date'], format='%d/%m/%Y')\n",
        "\n",
        "prime.head()"
      ]
    },
    {
      "cell_type": "code",
      "execution_count": 15,
      "metadata": {
        "colab": {
          "base_uri": "https://localhost:8080/"
        },
        "id": "LwPl7t7Qhrr8",
        "outputId": "9fb7862c-8d4f-42d7-cab3-1f6c4d6e82c8"
      },
      "outputs": [
        {
          "data": {
            "text/plain": [
              "realtime_start    datetime64[ns]\n",
              "realtime_end      datetime64[ns]\n",
              "date              datetime64[ns]\n",
              "value                     object\n",
              "dtype: object"
            ]
          },
          "execution_count": 15,
          "metadata": {},
          "output_type": "execute_result"
        }
      ],
      "source": [
        "prime.dtypes"
      ]
    },
    {
      "cell_type": "markdown",
      "metadata": {
        "id": "mNvdkbERhzA8"
      },
      "source": [
        "# Ejercicio 5\n",
        "Extrae a objetos nuevos:\n",
        "- El año de realtime_start\n",
        "- El Q de realtime_end\n",
        "- El día de la semana de date\n",
        "\n",
        "Y descríbelos"
      ]
    },
    {
      "cell_type": "code",
      "execution_count": 28,
      "metadata": {},
      "outputs": [],
      "source": [
        "# creame una funcion que sea una calculadora y multiplique por dos\n",
        "\n"
      ]
    },
    {
      "cell_type": "code",
      "execution_count": 16,
      "metadata": {
        "colab": {
          "base_uri": "https://localhost:8080/"
        },
        "id": "nhc3KY1YhskB",
        "outputId": "ddd3bf05-8cf5-4b5a-e6ab-18acb7275c58"
      },
      "outputs": [
        {
          "data": {
            "text/plain": [
              "count     353.0\n",
              "mean     2019.0\n",
              "std         0.0\n",
              "min      2019.0\n",
              "25%      2019.0\n",
              "50%      2019.0\n",
              "75%      2019.0\n",
              "max      2019.0\n",
              "Name: realtime_start, dtype: float64"
            ]
          },
          "execution_count": 16,
          "metadata": {},
          "output_type": "execute_result"
        }
      ],
      "source": [
        "year_start = prime['realtime_start'].dt.year\n",
        "year_start.describe()"
      ]
    },
    {
      "cell_type": "code",
      "execution_count": 17,
      "metadata": {
        "colab": {
          "base_uri": "https://localhost:8080/"
        },
        "id": "QHS-kjIVh1MK",
        "outputId": "8341562d-a9c5-489b-ef2f-8386476d4abb"
      },
      "outputs": [
        {
          "data": {
            "text/plain": [
              "count    353.0\n",
              "mean       4.0\n",
              "std        0.0\n",
              "min        4.0\n",
              "25%        4.0\n",
              "50%        4.0\n",
              "75%        4.0\n",
              "max        4.0\n",
              "Name: realtime_end, dtype: float64"
            ]
          },
          "execution_count": 17,
          "metadata": {},
          "output_type": "execute_result"
        }
      ],
      "source": [
        "q_end = prime['realtime_end'].dt.quarter\n",
        "q_end.describe()"
      ]
    },
    {
      "cell_type": "code",
      "execution_count": 18,
      "metadata": {
        "colab": {
          "base_uri": "https://localhost:8080/"
        },
        "id": "nUCiXGo_h2UK",
        "outputId": "568b33ba-f206-4d47-d540-b73334642afe"
      },
      "outputs": [
        {
          "data": {
            "text/plain": [
              "count    353.000000\n",
              "mean       1.940510\n",
              "std        1.465271\n",
              "min        0.000000\n",
              "25%        1.000000\n",
              "50%        2.000000\n",
              "75%        3.000000\n",
              "max        6.000000\n",
              "Name: date, dtype: float64"
            ]
          },
          "execution_count": 18,
          "metadata": {},
          "output_type": "execute_result"
        }
      ],
      "source": [
        "weekday_date = prime['date'].dt.weekday\n",
        "weekday_date.describe()"
      ]
    },
    {
      "cell_type": "markdown",
      "metadata": {
        "id": "HLxeF5f3h7N3"
      },
      "source": [
        "# Ejercicio 6\n",
        "\n",
        "Calcula el plazo en días desde date a realtime end, y selecciona el máximo y el mínimo."
      ]
    },
    {
      "cell_type": "code",
      "execution_count": 19,
      "metadata": {
        "colab": {
          "base_uri": "https://localhost:8080/"
        },
        "id": "rJ4EqKJ-h4g6",
        "outputId": "72e7106a-1498-49c9-c4ac-eaac285fde05"
      },
      "outputs": [
        {
          "name": "stdout",
          "output_type": "stream",
          "text": [
            "26320 days 00:00:00\n",
            "53 days 00:00:00\n"
          ]
        }
      ],
      "source": [
        "print((prime['realtime_end'] - prime['date']).max())\n",
        "print((prime['realtime_end'] - prime['date']).min())"
      ]
    },
    {
      "cell_type": "markdown",
      "metadata": {
        "id": "ooxLR0XDiDPF"
      },
      "source": [
        "# Ejercicio 7\n",
        "\n",
        "En el conjunto de datos PRIME:\n",
        "- Sustituye los ‘.’ por np.nan en la columna value\n",
        "- Cuenta los missings usando isna + sum\n",
        "- Elimina las filas con la columna value no informada\n"
      ]
    },
    {
      "cell_type": "code",
      "execution_count": 20,
      "metadata": {
        "colab": {
          "base_uri": "https://localhost:8080/"
        },
        "id": "dMs9GnZrh_ct",
        "outputId": "0732be39-cd91-49d3-ce47-02005afde1b0"
      },
      "outputs": [
        {
          "data": {
            "text/plain": [
              "8"
            ]
          },
          "execution_count": 20,
          "metadata": {},
          "output_type": "execute_result"
        }
      ],
      "source": [
        "prime['value'] = prime['value'].replace({'.': np.nan})\n",
        "prime['value'].isna().sum()"
      ]
    },
    {
      "cell_type": "code",
      "execution_count": 21,
      "metadata": {
        "colab": {
          "base_uri": "https://localhost:8080/"
        },
        "id": "HGcRhJuziFDk",
        "outputId": "7dbed1aa-4e75-42cd-d45e-4b5f47bb47b2"
      },
      "outputs": [
        {
          "name": "stdout",
          "output_type": "stream",
          "text": [
            "(353, 4)\n",
            "(345, 4)\n"
          ]
        }
      ],
      "source": [
        "print(prime.shape)\n",
        "prime.dropna(axis=0, inplace=True)\n",
        "print(prime.shape)"
      ]
    },
    {
      "cell_type": "markdown",
      "metadata": {
        "id": "m12BM_Tfix5C"
      },
      "source": [
        "# Ejercicio 8\n",
        "\n",
        "En el conjunto de datos database:\n",
        "- Saca el número de missings por columna\n",
        "- Rellena a 0 los missings en las columnas del importe de los depósitos\n",
        "- Rellena con la media los valores de latitud y longitud\n",
        "- Deja missing la fecha de adquisición"
      ]
    },
    {
      "cell_type": "code",
      "execution_count": 25,
      "metadata": {
        "colab": {
          "base_uri": "https://localhost:8080/"
        },
        "id": "4_KF443xiPdH",
        "outputId": "f4355432-eefa-43b8-c524-9503f32939fc"
      },
      "outputs": [
        {
          "data": {
            "text/plain": [
              "Institution Name       0\n",
              "Main Office            0\n",
              "Branch Name            0\n",
              "Branch Number          0\n",
              "Established Date       0\n",
              "Acquired Date       1615\n",
              "Street Address         0\n",
              "City                   0\n",
              "County                 0\n",
              "State                  0\n",
              "Zipcode                0\n",
              "Latitude              66\n",
              "Longitude             66\n",
              "2010 Deposits          0\n",
              "2011 Deposits          0\n",
              "2012 Deposits          0\n",
              "2013 Deposits          0\n",
              "2014 Deposits          0\n",
              "2015 Deposits          0\n",
              "2016 Deposits          0\n",
              "dtype: int64"
            ]
          },
          "execution_count": 25,
          "metadata": {},
          "output_type": "execute_result"
        }
      ],
      "source": [
        "data.isna().sum()"
      ]
    },
    {
      "cell_type": "code",
      "execution_count": 33,
      "metadata": {
        "colab": {
          "base_uri": "https://localhost:8080/"
        },
        "id": "BDJ9zfNfi2UT",
        "outputId": "8a821dc5-6d21-4b00-e407-ede6dfbf3e1e"
      },
      "outputs": [
        {
          "data": {
            "text/plain": [
              "Institution Name       0\n",
              "Main Office            0\n",
              "Branch Name            0\n",
              "Branch Number          0\n",
              "Established Date       0\n",
              "Acquired Date       1615\n",
              "Street Address         0\n",
              "City                   0\n",
              "County                 0\n",
              "State                  0\n",
              "Zipcode                0\n",
              "Latitude              66\n",
              "Longitude             66\n",
              "2010 Deposits          0\n",
              "2011 Deposits          0\n",
              "2012 Deposits          0\n",
              "2013 Deposits          0\n",
              "2014 Deposits          0\n",
              "2015 Deposits          0\n",
              "2016 Deposits          0\n",
              "dtype: int64"
            ]
          },
          "execution_count": 33,
          "metadata": {},
          "output_type": "execute_result"
        }
      ],
      "source": [
        "nombres = [c for c in data.columns if 'Deposits' in c]\n",
        "data[nombres] = data[nombres].fillna(0)\n",
        "data.isna().sum()"
      ]
    },
    {
      "cell_type": "code",
      "execution_count": null,
      "metadata": {},
      "outputs": [],
      "source": []
    },
    {
      "cell_type": "code",
      "execution_count": null,
      "metadata": {},
      "outputs": [],
      "source": []
    },
    {
      "cell_type": "code",
      "execution_count": 36,
      "metadata": {
        "colab": {
          "base_uri": "https://localhost:8080/"
        },
        "id": "9IvTs56Pi5Dq",
        "outputId": "3e71efd6-80ec-4c06-d1a2-f786de2d1bc0"
      },
      "outputs": [
        {
          "name": "stdout",
          "output_type": "stream",
          "text": [
            "37.24892194314569 -95.20626091453151\n"
          ]
        },
        {
          "name": "stderr",
          "output_type": "stream",
          "text": [
            "/var/folders/wq/hqs95r295vxfkmvqpvydj4jm0000gn/T/ipykernel_4251/3351620158.py:5: FutureWarning: A value is trying to be set on a copy of a DataFrame or Series through chained assignment using an inplace method.\n",
            "The behavior will change in pandas 3.0. This inplace method will never work because the intermediate object on which we are setting values always behaves as a copy.\n",
            "\n",
            "For example, when doing 'df[col].method(value, inplace=True)', try using 'df.method({col: value}, inplace=True)' or df[col] = df[col].method(value) instead, to perform the operation inplace on the original object.\n",
            "\n",
            "\n",
            "  data['Latitude'].fillna(mean_lat, inplace=True)\n",
            "/var/folders/wq/hqs95r295vxfkmvqpvydj4jm0000gn/T/ipykernel_4251/3351620158.py:6: FutureWarning: A value is trying to be set on a copy of a DataFrame or Series through chained assignment using an inplace method.\n",
            "The behavior will change in pandas 3.0. This inplace method will never work because the intermediate object on which we are setting values always behaves as a copy.\n",
            "\n",
            "For example, when doing 'df[col].method(value, inplace=True)', try using 'df.method({col: value}, inplace=True)' or df[col] = df[col].method(value) instead, to perform the operation inplace on the original object.\n",
            "\n",
            "\n",
            "  data['Longitude'].fillna(mean_lat, inplace=True)\n"
          ]
        },
        {
          "data": {
            "text/plain": [
              "Institution Name       0\n",
              "Main Office            0\n",
              "Branch Name            0\n",
              "Branch Number          0\n",
              "Established Date       0\n",
              "Acquired Date       1615\n",
              "Street Address         0\n",
              "City                   0\n",
              "County                 0\n",
              "State                  0\n",
              "Zipcode                0\n",
              "Latitude               0\n",
              "Longitude              0\n",
              "2010 Deposits          0\n",
              "2011 Deposits          0\n",
              "2012 Deposits          0\n",
              "2013 Deposits          0\n",
              "2014 Deposits          0\n",
              "2015 Deposits          0\n",
              "2016 Deposits          0\n",
              "dtype: int64"
            ]
          },
          "execution_count": 36,
          "metadata": {},
          "output_type": "execute_result"
        }
      ],
      "source": [
        "mean_lat = data['Latitude'].mean()\n",
        "mean_long = data['Longitude'].mean()\n",
        "print(mean_lat, mean_long)\n",
        "\n",
        "data['Latitude'].fillna(mean_lat, inplace=True)\n",
        "data['Longitude'].fillna(mean_lat, inplace=True)\n",
        "\n",
        "data.isna().sum()"
      ]
    },
    {
      "cell_type": "markdown",
      "metadata": {
        "id": "o3Wl_R6Di-LO"
      },
      "source": [
        "# Ejercicio 9\n",
        "\n",
        "En el conjunto de datos database:\n",
        "- Utiliza drop duplicates para quedarte solo con un registro por estado. Muestra el número de registros restante.\n",
        "- Utiliza drop duplicates para quedarte solo con aquellos registros de ciudades en las que solo hay una oficina. Muestra el número de registros restante."
      ]
    },
    {
      "cell_type": "code",
      "execution_count": 37,
      "metadata": {
        "colab": {
          "base_uri": "https://localhost:8080/"
        },
        "id": "PvcRImXui8W5",
        "outputId": "3bee2376-ea1f-49f0-d77d-b8c520ad977d"
      },
      "outputs": [
        {
          "name": "stdout",
          "output_type": "stream",
          "text": [
            "(5413, 20)\n",
            "(26, 20)\n",
            "1226\n"
          ]
        }
      ],
      "source": [
        "print(data.shape)\n",
        "print(data.drop_duplicates(subset='State').shape)\n",
        "print(data.drop_duplicates(subset=['City','County','State'], keep=False).shape[0])"
      ]
    },
    {
      "cell_type": "markdown",
      "metadata": {
        "id": "_aQodwMMj-YL"
      },
      "source": [
        "# Ejercicio 10\n",
        "\n",
        "Nos han mandado varios archivos de extracciones de la base de datos (se llaman database_i.xlsx donde i es un número de 1 a 6). Nos piden que creemos un solo conjunto de datos.\n",
        "\n",
        "Únelos usando concatenate y respetando la lógica de los archivos."
      ]
    },
    {
      "cell_type": "code",
      "execution_count": 41,
      "metadata": {},
      "outputs": [
        {
          "name": "stdout",
          "output_type": "stream",
          "text": [
            "Collecting openpyxl\n",
            "  Obtaining dependency information for openpyxl from https://files.pythonhosted.org/packages/6a/94/a59521de836ef0da54aaf50da6c4da8fb4072fb3053fa71f052fd9399e7a/openpyxl-3.1.2-py2.py3-none-any.whl.metadata\n",
            "  Downloading openpyxl-3.1.2-py2.py3-none-any.whl.metadata (2.5 kB)\n",
            "Collecting et-xmlfile (from openpyxl)\n",
            "  Obtaining dependency information for et-xmlfile from https://files.pythonhosted.org/packages/96/c2/3dd434b0108730014f1b96fd286040dc3bcb70066346f7e01ec2ac95865f/et_xmlfile-1.1.0-py3-none-any.whl.metadata\n",
            "  Downloading et_xmlfile-1.1.0-py3-none-any.whl.metadata (1.8 kB)\n",
            "Downloading openpyxl-3.1.2-py2.py3-none-any.whl (249 kB)\n",
            "\u001b[2K   \u001b[90m━━━━━━━━━━━━━━━━━━━━━━━━━━━━━━━━━━━━━━━━\u001b[0m \u001b[32m250.0/250.0 kB\u001b[0m \u001b[31m8.7 MB/s\u001b[0m eta \u001b[36m0:00:00\u001b[0m\n",
            "\u001b[?25hDownloading et_xmlfile-1.1.0-py3-none-any.whl (4.7 kB)\n",
            "Installing collected packages: et-xmlfile, openpyxl\n",
            "Successfully installed et-xmlfile-1.1.0 openpyxl-3.1.2\n",
            "\n",
            "\u001b[1m[\u001b[0m\u001b[34;49mnotice\u001b[0m\u001b[1;39;49m]\u001b[0m\u001b[39;49m A new release of pip is available: \u001b[0m\u001b[31;49m23.2.1\u001b[0m\u001b[39;49m -> \u001b[0m\u001b[32;49m24.0\u001b[0m\n",
            "\u001b[1m[\u001b[0m\u001b[34;49mnotice\u001b[0m\u001b[1;39;49m]\u001b[0m\u001b[39;49m To update, run: \u001b[0m\u001b[32;49mpip install --upgrade pip\u001b[0m\n",
            "Note: you may need to restart the kernel to use updated packages.\n"
          ]
        }
      ],
      "source": [
        "pip install openpyxl"
      ]
    },
    {
      "cell_type": "code",
      "execution_count": 42,
      "metadata": {
        "colab": {
          "base_uri": "https://localhost:8080/"
        },
        "id": "A4t_a4zgwrvy",
        "outputId": "ada42c77-c429-438d-a067-cf9915a9dc7a"
      },
      "outputs": [
        {
          "data": {
            "text/plain": [
              "(5413, 20)"
            ]
          },
          "execution_count": 42,
          "metadata": {},
          "output_type": "execute_result"
        }
      ],
      "source": [
        "dfs = {f'df{i}':pd.read_excel(f'../data/database_{i}.xlsx') for i in range(1,7)}\n",
        "comp = pd.concat([pd.concat([dfs[f'df{i}'], dfs[f'df{i+1}']], axis=1) for i in range(1,7,2)], axis=0)\n",
        "comp.shape"
      ]
    },
    {
      "cell_type": "code",
      "execution_count": null,
      "metadata": {},
      "outputs": [],
      "source": []
    },
    {
      "cell_type": "code",
      "execution_count": 44,
      "metadata": {
        "colab": {
          "base_uri": "https://localhost:8080/",
          "height": 1000
        },
        "id": "nB5NWr5rjIc9",
        "outputId": "f57b9f59-16e3-4e08-970e-43820cfd7b00"
      },
      "outputs": [
        {
          "name": "stdout",
          "output_type": "stream",
          "text": [
            "(1000, 3)\n",
            "(1000, 17)\n",
            "(1500, 5)\n",
            "(1500, 15)\n",
            "(2913, 10)\n",
            "(2913, 10)\n"
          ]
        },
        {
          "data": {
            "text/html": [
              "<div>\n",
              "<style scoped>\n",
              "    .dataframe tbody tr th:only-of-type {\n",
              "        vertical-align: middle;\n",
              "    }\n",
              "\n",
              "    .dataframe tbody tr th {\n",
              "        vertical-align: top;\n",
              "    }\n",
              "\n",
              "    .dataframe thead th {\n",
              "        text-align: right;\n",
              "    }\n",
              "</style>\n",
              "<table border=\"1\" class=\"dataframe\">\n",
              "  <thead>\n",
              "    <tr style=\"text-align: right;\">\n",
              "      <th></th>\n",
              "      <th>Institution Name</th>\n",
              "      <th>Main Office</th>\n",
              "      <th>Branch Name</th>\n",
              "      <th>Branch Number</th>\n",
              "      <th>Established Date</th>\n",
              "      <th>Acquired Date</th>\n",
              "      <th>Street Address</th>\n",
              "      <th>City</th>\n",
              "      <th>County</th>\n",
              "      <th>State</th>\n",
              "      <th>Zipcode</th>\n",
              "      <th>Latitude</th>\n",
              "      <th>Longitude</th>\n",
              "      <th>2010 Deposits</th>\n",
              "      <th>2011 Deposits</th>\n",
              "      <th>2012 Deposits</th>\n",
              "      <th>2013 Deposits</th>\n",
              "      <th>2014 Deposits</th>\n",
              "      <th>2015 Deposits</th>\n",
              "      <th>2016 Deposits</th>\n",
              "    </tr>\n",
              "  </thead>\n",
              "  <tbody>\n",
              "    <tr>\n",
              "      <th>0</th>\n",
              "      <td>JPMorgan Chase Bank</td>\n",
              "      <td>1</td>\n",
              "      <td>JPMorgan Chase Bank Main Office</td>\n",
              "      <td>0</td>\n",
              "      <td>01/01/1824</td>\n",
              "      <td>NaN</td>\n",
              "      <td>1111 Polaris Parkway</td>\n",
              "      <td>Columbus</td>\n",
              "      <td>Delaware</td>\n",
              "      <td>OH</td>\n",
              "      <td>43240</td>\n",
              "      <td>40.14453</td>\n",
              "      <td>-82.99115</td>\n",
              "      <td>633131000.0</td>\n",
              "      <td>743268000.0</td>\n",
              "      <td>832455000.0</td>\n",
              "      <td>916543000.0</td>\n",
              "      <td>1.032549e+09</td>\n",
              "      <td>1.069425e+09</td>\n",
              "      <td>1155185000</td>\n",
              "    </tr>\n",
              "    <tr>\n",
              "      <th>1</th>\n",
              "      <td>JPMorgan Chase Bank</td>\n",
              "      <td>0</td>\n",
              "      <td>Vernon Hills Scarsdale Branch</td>\n",
              "      <td>2</td>\n",
              "      <td>03/20/1961</td>\n",
              "      <td>NaN</td>\n",
              "      <td>676 White Plains Road</td>\n",
              "      <td>Scarsdale</td>\n",
              "      <td>Westchester</td>\n",
              "      <td>NY</td>\n",
              "      <td>10583</td>\n",
              "      <td>40.97008</td>\n",
              "      <td>-73.80670</td>\n",
              "      <td>293229.0</td>\n",
              "      <td>310791.0</td>\n",
              "      <td>325742.0</td>\n",
              "      <td>327930.0</td>\n",
              "      <td>3.277920e+05</td>\n",
              "      <td>3.414750e+05</td>\n",
              "      <td>381558</td>\n",
              "    </tr>\n",
              "    <tr>\n",
              "      <th>2</th>\n",
              "      <td>JPMorgan Chase Bank</td>\n",
              "      <td>0</td>\n",
              "      <td>Great Neck Northern Boulevard Branch</td>\n",
              "      <td>3</td>\n",
              "      <td>1963-09-09 00:00:00</td>\n",
              "      <td>NaN</td>\n",
              "      <td>410 Northern Boulevard</td>\n",
              "      <td>Great Neck</td>\n",
              "      <td>Nassau</td>\n",
              "      <td>NY</td>\n",
              "      <td>11021</td>\n",
              "      <td>40.77944</td>\n",
              "      <td>-73.72240</td>\n",
              "      <td>191011.0</td>\n",
              "      <td>206933.0</td>\n",
              "      <td>216439.0</td>\n",
              "      <td>237983.0</td>\n",
              "      <td>2.341830e+05</td>\n",
              "      <td>2.624550e+05</td>\n",
              "      <td>278940</td>\n",
              "    </tr>\n",
              "    <tr>\n",
              "      <th>3</th>\n",
              "      <td>JPMorgan Chase Bank</td>\n",
              "      <td>0</td>\n",
              "      <td>North Hartsdale Branch</td>\n",
              "      <td>4</td>\n",
              "      <td>02/19/1966</td>\n",
              "      <td>NaN</td>\n",
              "      <td>353 North Central Avenue</td>\n",
              "      <td>Hartsdale</td>\n",
              "      <td>Westchester</td>\n",
              "      <td>NY</td>\n",
              "      <td>10530</td>\n",
              "      <td>41.02654</td>\n",
              "      <td>-73.79168</td>\n",
              "      <td>87110.0</td>\n",
              "      <td>88367.0</td>\n",
              "      <td>93163.0</td>\n",
              "      <td>109659.0</td>\n",
              "      <td>1.119850e+05</td>\n",
              "      <td>1.167720e+05</td>\n",
              "      <td>140233</td>\n",
              "    </tr>\n",
              "    <tr>\n",
              "      <th>4</th>\n",
              "      <td>JPMorgan Chase Bank</td>\n",
              "      <td>0</td>\n",
              "      <td>Lawrence Rockaway Branch</td>\n",
              "      <td>5</td>\n",
              "      <td>01/16/1965</td>\n",
              "      <td>NaN</td>\n",
              "      <td>335 Rockaway Turnpike</td>\n",
              "      <td>Lawrence</td>\n",
              "      <td>Nassau</td>\n",
              "      <td>NY</td>\n",
              "      <td>11559</td>\n",
              "      <td>40.62715</td>\n",
              "      <td>-73.73675</td>\n",
              "      <td>172608.0</td>\n",
              "      <td>172749.0</td>\n",
              "      <td>189413.0</td>\n",
              "      <td>198445.0</td>\n",
              "      <td>2.051980e+05</td>\n",
              "      <td>2.232000e+05</td>\n",
              "      <td>235594</td>\n",
              "    </tr>\n",
              "    <tr>\n",
              "      <th>...</th>\n",
              "      <td>...</td>\n",
              "      <td>...</td>\n",
              "      <td>...</td>\n",
              "      <td>...</td>\n",
              "      <td>...</td>\n",
              "      <td>...</td>\n",
              "      <td>...</td>\n",
              "      <td>...</td>\n",
              "      <td>...</td>\n",
              "      <td>...</td>\n",
              "      <td>...</td>\n",
              "      <td>...</td>\n",
              "      <td>...</td>\n",
              "      <td>...</td>\n",
              "      <td>...</td>\n",
              "      <td>...</td>\n",
              "      <td>...</td>\n",
              "      <td>...</td>\n",
              "      <td>...</td>\n",
              "      <td>...</td>\n",
              "    </tr>\n",
              "    <tr>\n",
              "      <th>2908</th>\n",
              "      <td>JPMorgan Chase Bank</td>\n",
              "      <td>0</td>\n",
              "      <td>Alameda and Compton Blvd Branch</td>\n",
              "      <td>7981</td>\n",
              "      <td>2015-03-11 00:00:00</td>\n",
              "      <td>NaN</td>\n",
              "      <td>251 E Compton Blvd</td>\n",
              "      <td>Compton</td>\n",
              "      <td>Los Angeles</td>\n",
              "      <td>CA</td>\n",
              "      <td>90220</td>\n",
              "      <td>33.89601</td>\n",
              "      <td>-118.22084</td>\n",
              "      <td>NaN</td>\n",
              "      <td>NaN</td>\n",
              "      <td>NaN</td>\n",
              "      <td>NaN</td>\n",
              "      <td>NaN</td>\n",
              "      <td>NaN</td>\n",
              "      <td>3446</td>\n",
              "    </tr>\n",
              "    <tr>\n",
              "      <th>2909</th>\n",
              "      <td>JPMorgan Chase Bank</td>\n",
              "      <td>0</td>\n",
              "      <td>Charleston and Rancho</td>\n",
              "      <td>7982</td>\n",
              "      <td>2016-02-02 00:00:00</td>\n",
              "      <td>NaN</td>\n",
              "      <td>2311 W Chafrleston Blvd</td>\n",
              "      <td>Las Vegas</td>\n",
              "      <td>Clark</td>\n",
              "      <td>NV</td>\n",
              "      <td>89102</td>\n",
              "      <td>36.14270</td>\n",
              "      <td>-115.19043</td>\n",
              "      <td>NaN</td>\n",
              "      <td>NaN</td>\n",
              "      <td>NaN</td>\n",
              "      <td>NaN</td>\n",
              "      <td>NaN</td>\n",
              "      <td>NaN</td>\n",
              "      <td>2666</td>\n",
              "    </tr>\n",
              "    <tr>\n",
              "      <th>2910</th>\n",
              "      <td>JPMorgan Chase Bank</td>\n",
              "      <td>0</td>\n",
              "      <td>Los Olivos Branch</td>\n",
              "      <td>7984</td>\n",
              "      <td>03/15/2016</td>\n",
              "      <td>NaN</td>\n",
              "      <td>8593 Irvine Center Drive</td>\n",
              "      <td>Irvine</td>\n",
              "      <td>Orange</td>\n",
              "      <td>CA</td>\n",
              "      <td>92618</td>\n",
              "      <td>33.64412</td>\n",
              "      <td>-117.74453</td>\n",
              "      <td>NaN</td>\n",
              "      <td>NaN</td>\n",
              "      <td>NaN</td>\n",
              "      <td>NaN</td>\n",
              "      <td>NaN</td>\n",
              "      <td>NaN</td>\n",
              "      <td>6689</td>\n",
              "    </tr>\n",
              "    <tr>\n",
              "      <th>2911</th>\n",
              "      <td>JPMorgan Chase Bank</td>\n",
              "      <td>0</td>\n",
              "      <td>Lake Forest Branch</td>\n",
              "      <td>7988</td>\n",
              "      <td>2016-01-01 00:00:00</td>\n",
              "      <td>NaN</td>\n",
              "      <td>5660 Read Blvd</td>\n",
              "      <td>New Orleans</td>\n",
              "      <td>Orleans</td>\n",
              "      <td>LA</td>\n",
              "      <td>70127</td>\n",
              "      <td>30.03205</td>\n",
              "      <td>-89.97260</td>\n",
              "      <td>NaN</td>\n",
              "      <td>NaN</td>\n",
              "      <td>NaN</td>\n",
              "      <td>NaN</td>\n",
              "      <td>NaN</td>\n",
              "      <td>NaN</td>\n",
              "      <td>94133</td>\n",
              "    </tr>\n",
              "    <tr>\n",
              "      <th>2912</th>\n",
              "      <td>JPMorgan Chase Bank</td>\n",
              "      <td>0</td>\n",
              "      <td>Buffalo-Mm Branch</td>\n",
              "      <td>7989</td>\n",
              "      <td>2016-01-01 00:00:00</td>\n",
              "      <td>NaN</td>\n",
              "      <td>350 Main Street</td>\n",
              "      <td>Buffalo</td>\n",
              "      <td>Erie</td>\n",
              "      <td>NY</td>\n",
              "      <td>14202</td>\n",
              "      <td>42.88429</td>\n",
              "      <td>-78.87487</td>\n",
              "      <td>NaN</td>\n",
              "      <td>NaN</td>\n",
              "      <td>NaN</td>\n",
              "      <td>NaN</td>\n",
              "      <td>NaN</td>\n",
              "      <td>NaN</td>\n",
              "      <td>45596</td>\n",
              "    </tr>\n",
              "  </tbody>\n",
              "</table>\n",
              "<p>5413 rows × 20 columns</p>\n",
              "</div>"
            ],
            "text/plain": [
              "         Institution Name  Main Office                           Branch Name  \\\n",
              "0     JPMorgan Chase Bank            1       JPMorgan Chase Bank Main Office   \n",
              "1     JPMorgan Chase Bank            0         Vernon Hills Scarsdale Branch   \n",
              "2     JPMorgan Chase Bank            0  Great Neck Northern Boulevard Branch   \n",
              "3     JPMorgan Chase Bank            0                North Hartsdale Branch   \n",
              "4     JPMorgan Chase Bank            0              Lawrence Rockaway Branch   \n",
              "...                   ...          ...                                   ...   \n",
              "2908  JPMorgan Chase Bank            0       Alameda and Compton Blvd Branch   \n",
              "2909  JPMorgan Chase Bank            0                 Charleston and Rancho   \n",
              "2910  JPMorgan Chase Bank            0                     Los Olivos Branch   \n",
              "2911  JPMorgan Chase Bank            0                    Lake Forest Branch   \n",
              "2912  JPMorgan Chase Bank            0                     Buffalo-Mm Branch   \n",
              "\n",
              "      Branch Number     Established Date Acquired Date  \\\n",
              "0                 0           01/01/1824           NaN   \n",
              "1                 2           03/20/1961           NaN   \n",
              "2                 3  1963-09-09 00:00:00           NaN   \n",
              "3                 4           02/19/1966           NaN   \n",
              "4                 5           01/16/1965           NaN   \n",
              "...             ...                  ...           ...   \n",
              "2908           7981  2015-03-11 00:00:00           NaN   \n",
              "2909           7982  2016-02-02 00:00:00           NaN   \n",
              "2910           7984           03/15/2016           NaN   \n",
              "2911           7988  2016-01-01 00:00:00           NaN   \n",
              "2912           7989  2016-01-01 00:00:00           NaN   \n",
              "\n",
              "                Street Address         City       County State  Zipcode  \\\n",
              "0         1111 Polaris Parkway     Columbus     Delaware    OH    43240   \n",
              "1        676 White Plains Road    Scarsdale  Westchester    NY    10583   \n",
              "2       410 Northern Boulevard   Great Neck       Nassau    NY    11021   \n",
              "3     353 North Central Avenue    Hartsdale  Westchester    NY    10530   \n",
              "4        335 Rockaway Turnpike     Lawrence       Nassau    NY    11559   \n",
              "...                        ...          ...          ...   ...      ...   \n",
              "2908        251 E Compton Blvd      Compton  Los Angeles    CA    90220   \n",
              "2909   2311 W Chafrleston Blvd    Las Vegas        Clark    NV    89102   \n",
              "2910  8593 Irvine Center Drive       Irvine       Orange    CA    92618   \n",
              "2911            5660 Read Blvd  New Orleans      Orleans    LA    70127   \n",
              "2912           350 Main Street      Buffalo         Erie    NY    14202   \n",
              "\n",
              "      Latitude  Longitude  2010 Deposits  2011 Deposits  2012 Deposits  \\\n",
              "0     40.14453  -82.99115    633131000.0    743268000.0    832455000.0   \n",
              "1     40.97008  -73.80670       293229.0       310791.0       325742.0   \n",
              "2     40.77944  -73.72240       191011.0       206933.0       216439.0   \n",
              "3     41.02654  -73.79168        87110.0        88367.0        93163.0   \n",
              "4     40.62715  -73.73675       172608.0       172749.0       189413.0   \n",
              "...        ...        ...            ...            ...            ...   \n",
              "2908  33.89601 -118.22084            NaN            NaN            NaN   \n",
              "2909  36.14270 -115.19043            NaN            NaN            NaN   \n",
              "2910  33.64412 -117.74453            NaN            NaN            NaN   \n",
              "2911  30.03205  -89.97260            NaN            NaN            NaN   \n",
              "2912  42.88429  -78.87487            NaN            NaN            NaN   \n",
              "\n",
              "      2013 Deposits  2014 Deposits  2015 Deposits  2016 Deposits  \n",
              "0       916543000.0   1.032549e+09   1.069425e+09     1155185000  \n",
              "1          327930.0   3.277920e+05   3.414750e+05         381558  \n",
              "2          237983.0   2.341830e+05   2.624550e+05         278940  \n",
              "3          109659.0   1.119850e+05   1.167720e+05         140233  \n",
              "4          198445.0   2.051980e+05   2.232000e+05         235594  \n",
              "...             ...            ...            ...            ...  \n",
              "2908            NaN            NaN            NaN           3446  \n",
              "2909            NaN            NaN            NaN           2666  \n",
              "2910            NaN            NaN            NaN           6689  \n",
              "2911            NaN            NaN            NaN          94133  \n",
              "2912            NaN            NaN            NaN          45596  \n",
              "\n",
              "[5413 rows x 20 columns]"
            ]
          },
          "execution_count": 44,
          "metadata": {},
          "output_type": "execute_result"
        }
      ],
      "source": [
        "dfs = {}\n",
        "\n",
        "for i in range(1,7):\n",
        "  dfs[f'df{i}'] = pd.read_excel(f'../data/database_{i}.xlsx')\n",
        "  print(dfs[f'df{i}'].shape)\n",
        "\n",
        "tmp = []\n",
        "for i in range(1,7,2):\n",
        "  tmp.append(pd.concat([dfs[f'df{i}'], dfs[f'df{i+1}']], axis=1))\n",
        "\n",
        "pd.concat(tmp, axis=0)"
      ]
    },
    {
      "cell_type": "markdown",
      "metadata": {
        "id": "WiAaQTOckl8r"
      },
      "source": [
        "Si nos fijamos en las formas de los dataframes, vemos que van por parejas:\n",
        "- El 2 es la parte derecha del 1\n",
        "- El 3, la del 4\n",
        "- El 5, la del 6\n",
        "\n",
        "Así que lo primero es concatenarlos a lo ancho.\n",
        "\n",
        "Luego tendremos que concatenarlos en vertical."
      ]
    },
    {
      "cell_type": "markdown",
      "metadata": {
        "id": "z6WC4HMkkoRe"
      },
      "source": [
        "# Ejercicio 11\n",
        "\n",
        "Ahora nos han mandado dos archivos, de diferentes épocas (2010-2013 en database_old.xlsx y 2014-2016 en database_new.xlsx). Combínalos para conseguir un conjunto de datos completos.\n",
        "\n",
        "Después, añádele la información de cada oficina, que viene en office_info.xlsx."
      ]
    },
    {
      "cell_type": "code",
      "execution_count": 46,
      "metadata": {
        "colab": {
          "base_uri": "https://localhost:8080/"
        },
        "id": "bY0GlHelkJPj",
        "outputId": "ef37a1df-86fe-4abb-ac5c-8e1433338d2f"
      },
      "outputs": [
        {
          "data": {
            "text/plain": [
              "(               Branch Name  Branch Number  2010 Deposits  2011 Deposits  \\\n",
              " 0  Washington, D.C. Branch           4409            0.0            0.0   \n",
              " \n",
              "    2012 Deposits  2013 Deposits  \n",
              " 0            0.0            0.0  ,\n",
              "          Branch Name  Branch Number  2014 Deposits  2015 Deposits  \\\n",
              " 0  Radio City Branch           3763      1047649.0      1098648.0   \n",
              " \n",
              "    2016 Deposits  \n",
              " 0        1158172  ,\n",
              "         Branch Name  Branch Number     Street Address       City       County  \\\n",
              " 0  Tarrytown Branch           3799  64 North Broadway  Tarrytown  Westchester   \n",
              " \n",
              "   State  Zipcode  \n",
              " 0    NY    10591  )"
            ]
          },
          "execution_count": 46,
          "metadata": {},
          "output_type": "execute_result"
        }
      ],
      "source": [
        "old = pd.read_excel('../data/database_old.xlsx')\n",
        "new = pd.read_excel('../data/database_new.xlsx')\n",
        "info = pd.read_excel('../data/office_info.xlsx')\n",
        "\n",
        "old.head(1), new.head(1), info.head(1)"
      ]
    },
    {
      "cell_type": "code",
      "execution_count": 47,
      "metadata": {
        "colab": {
          "base_uri": "https://localhost:8080/",
          "height": 333
        },
        "id": "fnvsnl-okz6a",
        "outputId": "454fab76-d47c-42a7-ef17-087324fe1dde"
      },
      "outputs": [
        {
          "data": {
            "text/html": [
              "<div>\n",
              "<style scoped>\n",
              "    .dataframe tbody tr th:only-of-type {\n",
              "        vertical-align: middle;\n",
              "    }\n",
              "\n",
              "    .dataframe tbody tr th {\n",
              "        vertical-align: top;\n",
              "    }\n",
              "\n",
              "    .dataframe thead th {\n",
              "        text-align: right;\n",
              "    }\n",
              "</style>\n",
              "<table border=\"1\" class=\"dataframe\">\n",
              "  <thead>\n",
              "    <tr style=\"text-align: right;\">\n",
              "      <th></th>\n",
              "      <th>Branch Name</th>\n",
              "      <th>Branch Number</th>\n",
              "      <th>2010 Deposits</th>\n",
              "      <th>2011 Deposits</th>\n",
              "      <th>2012 Deposits</th>\n",
              "      <th>2013 Deposits</th>\n",
              "      <th>2014 Deposits</th>\n",
              "      <th>2015 Deposits</th>\n",
              "      <th>2016 Deposits</th>\n",
              "    </tr>\n",
              "  </thead>\n",
              "  <tbody>\n",
              "    <tr>\n",
              "      <th>0</th>\n",
              "      <td>1 30 and Broadway Branch</td>\n",
              "      <td>6689</td>\n",
              "      <td>7231.0</td>\n",
              "      <td>10962.0</td>\n",
              "      <td>14277.0</td>\n",
              "      <td>18811.0</td>\n",
              "      <td>22297.0</td>\n",
              "      <td>27113.0</td>\n",
              "      <td>32264</td>\n",
              "    </tr>\n",
              "    <tr>\n",
              "      <th>1</th>\n",
              "      <td>112th &amp; Broadway Branch</td>\n",
              "      <td>5509</td>\n",
              "      <td>31362.0</td>\n",
              "      <td>43147.0</td>\n",
              "      <td>57269.0</td>\n",
              "      <td>68279.0</td>\n",
              "      <td>87942.0</td>\n",
              "      <td>106697.0</td>\n",
              "      <td>139455</td>\n",
              "    </tr>\n",
              "    <tr>\n",
              "      <th>2</th>\n",
              "      <td>12 Mile-Country Club Drive Branch</td>\n",
              "      <td>2837</td>\n",
              "      <td>87316.0</td>\n",
              "      <td>96703.0</td>\n",
              "      <td>107747.0</td>\n",
              "      <td>127349.0</td>\n",
              "      <td>142579.0</td>\n",
              "      <td>165378.0</td>\n",
              "      <td>168302</td>\n",
              "    </tr>\n",
              "    <tr>\n",
              "      <th>3</th>\n",
              "      <td>12335 Venice Blvd Branch</td>\n",
              "      <td>4738</td>\n",
              "      <td>100201.0</td>\n",
              "      <td>112127.0</td>\n",
              "      <td>114119.0</td>\n",
              "      <td>124824.0</td>\n",
              "      <td>145749.0</td>\n",
              "      <td>172413.0</td>\n",
              "      <td>175831</td>\n",
              "    </tr>\n",
              "    <tr>\n",
              "      <th>4</th>\n",
              "      <td>135th Street &amp; Fifth Avenue Branch</td>\n",
              "      <td>784</td>\n",
              "      <td>52478.0</td>\n",
              "      <td>54744.0</td>\n",
              "      <td>57225.0</td>\n",
              "      <td>59578.0</td>\n",
              "      <td>59351.0</td>\n",
              "      <td>63149.0</td>\n",
              "      <td>67947</td>\n",
              "    </tr>\n",
              "  </tbody>\n",
              "</table>\n",
              "</div>"
            ],
            "text/plain": [
              "                          Branch Name  Branch Number  2010 Deposits  \\\n",
              "0            1 30 and Broadway Branch           6689         7231.0   \n",
              "1             112th & Broadway Branch           5509        31362.0   \n",
              "2   12 Mile-Country Club Drive Branch           2837        87316.0   \n",
              "3            12335 Venice Blvd Branch           4738       100201.0   \n",
              "4  135th Street & Fifth Avenue Branch            784        52478.0   \n",
              "\n",
              "   2011 Deposits  2012 Deposits  2013 Deposits  2014 Deposits  2015 Deposits  \\\n",
              "0        10962.0        14277.0        18811.0        22297.0        27113.0   \n",
              "1        43147.0        57269.0        68279.0        87942.0       106697.0   \n",
              "2        96703.0       107747.0       127349.0       142579.0       165378.0   \n",
              "3       112127.0       114119.0       124824.0       145749.0       172413.0   \n",
              "4        54744.0        57225.0        59578.0        59351.0        63149.0   \n",
              "\n",
              "   2016 Deposits  \n",
              "0          32264  \n",
              "1         139455  \n",
              "2         168302  \n",
              "3         175831  \n",
              "4          67947  "
            ]
          },
          "execution_count": 47,
          "metadata": {},
          "output_type": "execute_result"
        }
      ],
      "source": [
        "part = old.merge(new, on=['Branch Name', 'Branch Number'], how='outer')\n",
        "part.head()"
      ]
    },
    {
      "cell_type": "code",
      "execution_count": 48,
      "metadata": {
        "colab": {
          "base_uri": "https://localhost:8080/",
          "height": 438
        },
        "id": "pIJH1ukik6Dj",
        "outputId": "c7eae986-77e3-42c1-9a83-c3813e2148ed"
      },
      "outputs": [
        {
          "data": {
            "text/html": [
              "<div>\n",
              "<style scoped>\n",
              "    .dataframe tbody tr th:only-of-type {\n",
              "        vertical-align: middle;\n",
              "    }\n",
              "\n",
              "    .dataframe tbody tr th {\n",
              "        vertical-align: top;\n",
              "    }\n",
              "\n",
              "    .dataframe thead th {\n",
              "        text-align: right;\n",
              "    }\n",
              "</style>\n",
              "<table border=\"1\" class=\"dataframe\">\n",
              "  <thead>\n",
              "    <tr style=\"text-align: right;\">\n",
              "      <th></th>\n",
              "      <th>Branch Name</th>\n",
              "      <th>Branch Number</th>\n",
              "      <th>2010 Deposits</th>\n",
              "      <th>2011 Deposits</th>\n",
              "      <th>2012 Deposits</th>\n",
              "      <th>2013 Deposits</th>\n",
              "      <th>2014 Deposits</th>\n",
              "      <th>2015 Deposits</th>\n",
              "      <th>2016 Deposits</th>\n",
              "      <th>Street Address</th>\n",
              "      <th>City</th>\n",
              "      <th>County</th>\n",
              "      <th>State</th>\n",
              "      <th>Zipcode</th>\n",
              "    </tr>\n",
              "  </thead>\n",
              "  <tbody>\n",
              "    <tr>\n",
              "      <th>0</th>\n",
              "      <td>1 30 and Broadway Branch</td>\n",
              "      <td>6689</td>\n",
              "      <td>7231.0</td>\n",
              "      <td>10962.0</td>\n",
              "      <td>14277.0</td>\n",
              "      <td>18811.0</td>\n",
              "      <td>22297.0</td>\n",
              "      <td>27113.0</td>\n",
              "      <td>32264</td>\n",
              "      <td>561 West Interstate 30</td>\n",
              "      <td>Garland</td>\n",
              "      <td>Dallas</td>\n",
              "      <td>TX</td>\n",
              "      <td>75043</td>\n",
              "    </tr>\n",
              "    <tr>\n",
              "      <th>1</th>\n",
              "      <td>112th &amp; Broadway Branch</td>\n",
              "      <td>5509</td>\n",
              "      <td>31362.0</td>\n",
              "      <td>43147.0</td>\n",
              "      <td>57269.0</td>\n",
              "      <td>68279.0</td>\n",
              "      <td>87942.0</td>\n",
              "      <td>106697.0</td>\n",
              "      <td>139455</td>\n",
              "      <td>2875 Broadway</td>\n",
              "      <td>New York City</td>\n",
              "      <td>New York</td>\n",
              "      <td>NY</td>\n",
              "      <td>10025</td>\n",
              "    </tr>\n",
              "    <tr>\n",
              "      <th>2</th>\n",
              "      <td>12 Mile-Country Club Drive Branch</td>\n",
              "      <td>2837</td>\n",
              "      <td>87316.0</td>\n",
              "      <td>96703.0</td>\n",
              "      <td>107747.0</td>\n",
              "      <td>127349.0</td>\n",
              "      <td>142579.0</td>\n",
              "      <td>165378.0</td>\n",
              "      <td>168302</td>\n",
              "      <td>38601 West 12 Mile Road</td>\n",
              "      <td>Farmington Hills</td>\n",
              "      <td>Oakland</td>\n",
              "      <td>MI</td>\n",
              "      <td>48331</td>\n",
              "    </tr>\n",
              "    <tr>\n",
              "      <th>3</th>\n",
              "      <td>12335 Venice Blvd Branch</td>\n",
              "      <td>4738</td>\n",
              "      <td>100201.0</td>\n",
              "      <td>112127.0</td>\n",
              "      <td>114119.0</td>\n",
              "      <td>124824.0</td>\n",
              "      <td>145749.0</td>\n",
              "      <td>172413.0</td>\n",
              "      <td>175831</td>\n",
              "      <td>12335 Venice Blvd</td>\n",
              "      <td>Los Angeles</td>\n",
              "      <td>Los Angeles</td>\n",
              "      <td>CA</td>\n",
              "      <td>90066</td>\n",
              "    </tr>\n",
              "    <tr>\n",
              "      <th>4</th>\n",
              "      <td>135th Street &amp; Fifth Avenue Branch</td>\n",
              "      <td>784</td>\n",
              "      <td>52478.0</td>\n",
              "      <td>54744.0</td>\n",
              "      <td>57225.0</td>\n",
              "      <td>59578.0</td>\n",
              "      <td>59351.0</td>\n",
              "      <td>63149.0</td>\n",
              "      <td>67947</td>\n",
              "      <td>2218 5th Avenue</td>\n",
              "      <td>New York City</td>\n",
              "      <td>New York</td>\n",
              "      <td>NY</td>\n",
              "      <td>10037</td>\n",
              "    </tr>\n",
              "  </tbody>\n",
              "</table>\n",
              "</div>"
            ],
            "text/plain": [
              "                          Branch Name  Branch Number  2010 Deposits  \\\n",
              "0            1 30 and Broadway Branch           6689         7231.0   \n",
              "1             112th & Broadway Branch           5509        31362.0   \n",
              "2   12 Mile-Country Club Drive Branch           2837        87316.0   \n",
              "3            12335 Venice Blvd Branch           4738       100201.0   \n",
              "4  135th Street & Fifth Avenue Branch            784        52478.0   \n",
              "\n",
              "   2011 Deposits  2012 Deposits  2013 Deposits  2014 Deposits  2015 Deposits  \\\n",
              "0        10962.0        14277.0        18811.0        22297.0        27113.0   \n",
              "1        43147.0        57269.0        68279.0        87942.0       106697.0   \n",
              "2        96703.0       107747.0       127349.0       142579.0       165378.0   \n",
              "3       112127.0       114119.0       124824.0       145749.0       172413.0   \n",
              "4        54744.0        57225.0        59578.0        59351.0        63149.0   \n",
              "\n",
              "   2016 Deposits           Street Address              City       County  \\\n",
              "0          32264   561 West Interstate 30           Garland       Dallas   \n",
              "1         139455            2875 Broadway     New York City     New York   \n",
              "2         168302  38601 West 12 Mile Road  Farmington Hills      Oakland   \n",
              "3         175831        12335 Venice Blvd       Los Angeles  Los Angeles   \n",
              "4          67947          2218 5th Avenue     New York City     New York   \n",
              "\n",
              "  State  Zipcode  \n",
              "0    TX    75043  \n",
              "1    NY    10025  \n",
              "2    MI    48331  \n",
              "3    CA    90066  \n",
              "4    NY    10037  "
            ]
          },
          "execution_count": 48,
          "metadata": {},
          "output_type": "execute_result"
        }
      ],
      "source": [
        "whole = part.merge(info, on=['Branch Number', 'Branch Name'], how='left')\n",
        "whole.head()"
      ]
    },
    {
      "cell_type": "code",
      "execution_count": null,
      "metadata": {},
      "outputs": [],
      "source": []
    }
  ],
  "metadata": {
    "colab": {
      "provenance": []
    },
    "kernelspec": {
      "display_name": "Python 3",
      "name": "python3"
    },
    "language_info": {
      "codemirror_mode": {
        "name": "ipython",
        "version": 3
      },
      "file_extension": ".py",
      "mimetype": "text/x-python",
      "name": "python",
      "nbconvert_exporter": "python",
      "pygments_lexer": "ipython3",
      "version": "3.11.5"
    }
  },
  "nbformat": 4,
  "nbformat_minor": 0
}
